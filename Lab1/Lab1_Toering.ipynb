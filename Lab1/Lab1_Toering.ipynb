{
 "cells": [
  {
   "cell_type": "markdown",
   "metadata": {},
   "source": [
    "# Lab 1 Toering\n",
    "\n",
    "In the computer labs we will work with the Python programming language within a Jupyter notebook. Each week a new notebook is made available that contains the exercises that are to be handed-in. \n",
    "\n",
    "* It is expected that you work individually and the usual plagarism rules apply.\n",
    "* Submissions are to be made on canvas. Make sure that you add your student ID in the submission comments.\n",
    "* The main notebook file you submit should read \"Lab[number]_[last name].ipynb\", for example \"Lab2_Bongers.ipynb\". \n",
    "* Please make sure your code will run without problems\n",
    "\n",
    "_You need to fill in everywhere that there is a_ '__TODO__'\n",
    "\n",
    "Feel free ask any questions during the computer lab sessions, or email the TA.\n",
    "\n",
    "**The due date for the labs is next Wednesday at 23:59**"
   ]
  },
  {
   "cell_type": "code",
   "execution_count": 165,
   "metadata": {
    "collapsed": true
   },
   "outputs": [],
   "source": [
    "# Load the numpy numerical computation library\n",
    "import numpy as np\n",
    "\n",
    "# Load matplotlib, which controls plotting pretty graphs\n",
    "import matplotlib.pyplot as plt\n",
    "%matplotlib inline"
   ]
  },
  {
   "cell_type": "markdown",
   "metadata": {},
   "source": [
    "## Exercise 1\n",
    "\n",
    "In this exercise, we will perform the same computations as in Problem 4 from Homework 1, herein refered to as Problem 1.4. \n",
    "\n",
    "### Matrix-vector products: \n",
    "__TODO__ (0.5 pt) Write a function `same_size(A,B)` that given an array $\\mathbf{A}$ and a vector $\\mathbf{b}$ determines whether the product $\\mathbf{A} \\mathbf{b}$ is well-defined. The function should check that the number of columns of $\\mathbf{A}$ equals the number of rows of $\\mathbf{b}$ returning `True` or `False` accordingly.\n",
    "\n",
    "We will use the python library `numpy`, which is designed to perfom matrix computations. Recall that in `numpy`, there is a function `shape` that given an array returns a tuple $(m,n,...)$, where $m$ is number of rows, $n$ is number of columns etc. "
   ]
  },
  {
   "cell_type": "code",
   "execution_count": 191,
   "metadata": {},
   "outputs": [
    {
     "data": {
      "text/plain": [
       "True"
      ]
     },
     "execution_count": 191,
     "metadata": {},
     "output_type": "execute_result"
    }
   ],
   "source": [
    "def same_size(A,B):\n",
    "    if A.shape[1] == B.shape[0]:\n",
    "        return True\n",
    "    else:\n",
    "        return False\n",
    "    \n",
    "same_size(np.array([[1,2],[3,4]]),np.array([[1],[2]]))"
   ]
  },
  {
   "cell_type": "markdown",
   "metadata": {},
   "source": [
    "__TODO__ Now we define $\\mathbf{A}$ and $\\mathbf{b}$ as in Homework problem 4 and check that our function indeed says that the product $\\mathbf{A}\\mathbf{b}$ is well-defined.  "
   ]
  },
  {
   "cell_type": "code",
   "execution_count": 192,
   "metadata": {},
   "outputs": [
    {
     "name": "stdout",
     "output_type": "stream",
     "text": [
      "True\n"
     ]
    }
   ],
   "source": [
    "list_A = [[1, 2],[3, 4]]\n",
    "A = np.array(list_A)\n",
    "\n",
    "list_b = [5, 6]\n",
    "b = np.array(list_b)\n",
    "b = b.reshape((2,1))\n",
    "\n",
    "print(same_size(A,b))"
   ]
  },
  {
   "cell_type": "markdown",
   "metadata": {},
   "source": [
    "__TODO__ (0.25 pt) Now give an example where `same_size()` would return the value `False`."
   ]
  },
  {
   "cell_type": "code",
   "execution_count": 193,
   "metadata": {},
   "outputs": [
    {
     "data": {
      "text/plain": [
       "False"
      ]
     },
     "execution_count": 193,
     "metadata": {},
     "output_type": "execute_result"
    }
   ],
   "source": [
    "same_size(np.array([[1,2],[3,4]]),np.array([[1,2]]))"
   ]
  },
  {
   "cell_type": "markdown",
   "metadata": {},
   "source": [
    "__TODO__ (1 pt) Now write a function `product(A,B)` that computes the matrix-matrix product $\\mathbf{A} \\mathbf{B}$. The function should first call `same_size()` to check whether $\\mathbf{A} \\mathbf{B}$ is well-defined. If the product is not well-defined, `product()` should return False; otherwise, returning the result $\\mathbf{A} \\mathbf{B}$.\n",
    "\n",
    "For this exercise you may not use pre-existing numpy functions. You must implement the formula $(\\mathbf{A} \\mathbf{B})_{ij} = \\sum_{l=1}^m A_{il} B_{lj} $ (if $\\mathbf{A}$ is an array of size $(n,k)$ and $\\mathbf{B}$ is an array of size $(k,m)$). "
   ]
  },
  {
   "cell_type": "code",
   "execution_count": 196,
   "metadata": {},
   "outputs": [
    {
     "name": "stdout",
     "output_type": "stream",
     "text": [
      "[[17.]\n",
      " [39.]]\n",
      "[[ 5.]\n",
      " [11.]\n",
      " [ 3.]]\n"
     ]
    }
   ],
   "source": [
    "def product(A,B):\n",
    "    if same_size(A,B):\n",
    "        (n,k) = A.shape\n",
    "        (k,m) = B.shape\n",
    "        AB = np.empty([n,m])\n",
    "        for i in range(n):\n",
    "            for j in range(m):\n",
    "                AB[i][j] = np.sum(A[i,:]*B[:,j])\n",
    "        return AB              \n",
    "        \n",
    "    return False\n",
    "\n",
    "\n",
    "print(product(A,b))\n",
    "\n",
    "print(product(np.array([[1,2],[3,4],[1,1]]),np.array([[1],[2]])))"
   ]
  },
  {
   "cell_type": "markdown",
   "metadata": {},
   "source": [
    "Let us now use `product()` to solve Problem 1.4.2. \n",
    "\n",
    "__TODO__ Compute the product $\\mathbf{b}^T \\mathbf{A}$. Check that the answer is the same as the one you found in your written assignment."
   ]
  },
  {
   "cell_type": "code",
   "execution_count": 198,
   "metadata": {},
   "outputs": [
    {
     "name": "stdout",
     "output_type": "stream",
     "text": [
      "[[23. 34.]]\n"
     ]
    }
   ],
   "source": [
    "print(product(b.T,A))"
   ]
  },
  {
   "cell_type": "markdown",
   "metadata": {},
   "source": [
    "To define `product()`, you were asked to not use any built-in functions. There is however already a function in numpy that computes the product of 2 matrices. \n",
    "\n",
    "__TODO__ (0.25 pt) Find that function in the library and use it to compute the product  $\\mathbf{b}^T \\mathbf{A}$. You should find the same answer as the one you obtained using your own function `product()`."
   ]
  },
  {
   "cell_type": "code",
   "execution_count": 199,
   "metadata": {},
   "outputs": [
    {
     "name": "stdout",
     "output_type": "stream",
     "text": [
      "[[23 34]]\n"
     ]
    }
   ],
   "source": [
    "print(np.matmul(b.T,A))"
   ]
  },
  {
   "cell_type": "markdown",
   "metadata": {},
   "source": [
    "You will now write a function that computes the inverse of an array $\\mathbf{A}$ of size $(2,2)$. You may not use any pre-existing inverse functions from any libraries, but instead use the definition $$\\begin{bmatrix} a & b \\\\ c & d \\end{bmatrix} = \\text{det}(\\mathbf{A})^{-1} \\begin{bmatrix} d & -b \\\\ -c & a \\end{bmatrix}.$$\n",
    "\n",
    "__TODO__ (1 pt)  First write a function `determinant(A)` that given an array $\\mathbf{A}$ of size $(2,2)$ returns the determinant of $\\mathbf{A}$. Recall that $\\text{det}\\left(\\begin{bmatrix} a & b \\\\ c & d \\end{bmatrix}\\right)=ad - bc$."
   ]
  },
  {
   "cell_type": "code",
   "execution_count": 201,
   "metadata": {},
   "outputs": [
    {
     "name": "stdout",
     "output_type": "stream",
     "text": [
      "-2\n"
     ]
    }
   ],
   "source": [
    "def determinant(matrix):\n",
    "    (x,y) = matrix.shape\n",
    "    return matrix[0,0]*matrix[x-1,y-1]-matrix[0,y-1]*matrix[x-1,0]\n",
    "\n",
    "\n",
    "print(determinant(A))"
   ]
  },
  {
   "cell_type": "markdown",
   "metadata": {},
   "source": [
    "__TODO__ (0.25 pt) In the library `numpy.linalg`, there is an already built-in function that computes the determinant. Use that function to compute the determinant of $\\mathbf{A}$ and check that you obtained the same result as with your own function `determinant(A)`. "
   ]
  },
  {
   "cell_type": "code",
   "execution_count": 202,
   "metadata": {},
   "outputs": [
    {
     "name": "stdout",
     "output_type": "stream",
     "text": [
      "-2.0000000000000004\n"
     ]
    }
   ],
   "source": [
    "print(np.linalg.det(A))"
   ]
  },
  {
   "cell_type": "markdown",
   "metadata": {},
   "source": [
    "__TODO__ (1 pt) Now use `determinant()` to define the function `inverse(A)`."
   ]
  },
  {
   "cell_type": "code",
   "execution_count": 203,
   "metadata": {
    "collapsed": true
   },
   "outputs": [],
   "source": [
    "def inverse(matrix):\n",
    "    (x,y) = matrix.shape\n",
    "    term = 1/determinant(matrix)\n",
    "    return term*np.array([[matrix[x-1,y-1],-matrix[0,y-1]],[-matrix[x-1,0],matrix[0,0]]])"
   ]
  },
  {
   "cell_type": "markdown",
   "metadata": {},
   "source": [
    "__TODO__ Let us use this function to calculate $\\mathbf{A}^{-1}$ as in Problem 1.4. Compare this answer with the answer from your written assignement. "
   ]
  },
  {
   "cell_type": "code",
   "execution_count": 204,
   "metadata": {},
   "outputs": [
    {
     "name": "stdout",
     "output_type": "stream",
     "text": [
      "[[-2.   1. ]\n",
      " [ 1.5 -0.5]]\n"
     ]
    }
   ],
   "source": [
    "print(inverse(A))"
   ]
  },
  {
   "cell_type": "markdown",
   "metadata": {},
   "source": [
    "In `numpy`, there is also a function that directly calculates the inverse of an array [`np.linalg.inv`] (https://docs.scipy.org/doc/numpy/reference/generated/numpy.linalg.inv.html)\n",
    "\n",
    "__TODO__ (0.25 pt) Print the inverse of $\\mathbf{A}$ using the inverse function. Check that this is equal to your previous result."
   ]
  },
  {
   "cell_type": "code",
   "execution_count": 176,
   "metadata": {},
   "outputs": [
    {
     "name": "stdout",
     "output_type": "stream",
     "text": [
      "[[-2.   1. ]\n",
      " [ 1.5 -0.5]]\n"
     ]
    }
   ],
   "source": [
    "print(np.linalg.inv(A))"
   ]
  },
  {
   "cell_type": "markdown",
   "metadata": {},
   "source": [
    "__BONUS__ (1 pt) Below there are 2 functions `matching` and `matching_bis` that check whether the inverse of $\\mathbf{A}$ calculated using `np.linalg.inv()` is equal to your own `inverse()`. The functions return `1` if the 2 matrices are equal and `0` otherwise. Can you guess why the first function returns $0$ d the second function returns a $1$ even though the 2 matrices are equal? "
   ]
  },
  {
   "cell_type": "code",
   "execution_count": 205,
   "metadata": {},
   "outputs": [
    {
     "name": "stdout",
     "output_type": "stream",
     "text": [
      "0\n",
      "1\n"
     ]
    }
   ],
   "source": [
    "A1 = inverse(A)\n",
    "A2 = np.linalg.inv(A)\n",
    "\n",
    "def matching(A1,A2):\n",
    "    print(np.prod(np.equal(A1,A2)))\n",
    "    \n",
    "def matching_bis(A1,A2):\n",
    "    print(np.prod(np.isclose(A1,A2)))\n",
    "    \n",
    "matching(A1,A2)\n",
    "matching_bis(A1,A2)"
   ]
  },
  {
   "cell_type": "code",
   "execution_count": 227,
   "metadata": {},
   "outputs": [],
   "source": [
    "# I suspect it has something to do with floats and the rounding\n",
    "# errors that occur"
   ]
  },
  {
   "cell_type": "markdown",
   "metadata": {},
   "source": [
    "Finally in Problem 1.4.4, you had to calculate $\\mathbf{A}^{-1}\\mathbf{b}$.\n",
    "\n",
    "__TODO__ Use your functions `inverse()` and `product()` to compute $\\mathbf{A}^{-1}\\mathbf{b}$. You can check that this matches your answer from the written assignment."
   ]
  },
  {
   "cell_type": "code",
   "execution_count": 228,
   "metadata": {},
   "outputs": [
    {
     "name": "stdout",
     "output_type": "stream",
     "text": [
      "[[-4. ]\n",
      " [ 4.5]]\n"
     ]
    }
   ],
   "source": [
    "print(product(inverse(A),b))"
   ]
  },
  {
   "cell_type": "markdown",
   "metadata": {},
   "source": [
    "__TODO__ (0.5 pt) Now try this for the matrix $\\mathbf{A} = \\begin{bmatrix} 3 & 6 \\\\ 2 & 4 \\end{bmatrix}$. Why do you get this result? Write your answer as a comment in the code."
   ]
  },
  {
   "cell_type": "code",
   "execution_count": 229,
   "metadata": {},
   "outputs": [
    {
     "name": "stdout",
     "output_type": "stream",
     "text": [
      "[[nan]\n",
      " [nan]]\n"
     ]
    },
    {
     "name": "stderr",
     "output_type": "stream",
     "text": [
      "/home/martine/anaconda3/lib/python3.6/site-packages/ipykernel_launcher.py:3: RuntimeWarning: divide by zero encountered in long_scalars\n",
      "  This is separate from the ipykernel package so we can avoid doing imports until\n",
      "/home/martine/anaconda3/lib/python3.6/site-packages/numpy/core/_methods.py:32: RuntimeWarning: invalid value encountered in reduce\n",
      "  return umr_sum(a, axis, dtype, out, keepdims)\n"
     ]
    }
   ],
   "source": [
    "A = np.asarray([[3,6],[2,4]])\n",
    "print(product(inverse(A),b))\n",
    "\n",
    "# This result is due to no inverse existing for this matrix"
   ]
  },
  {
   "cell_type": "markdown",
   "metadata": {},
   "source": [
    "## Exercise 2\n",
    "This exercise is based on the hard drive example in the Week 1 notes.\n",
    "\n",
    "You are given a binary input string of length $n$. The probability of a particular bit $X$ being 0 is $P(X=0) = p$ (clearly $P(X=1)=1-p$). This string is read by a machine which is prone to read-errors. If $Y$ denotes the bit read (after errors), then with a probability $P(Y=1 | X=0)=p_{0\\to 1}$, the machine reads a $0$ instead of a $1$ and with a probability $P(Y=0 | X=1)=p_{1\\to 0}$, it reads a $1$ as a $0$. We call $X$ the __input__ and $Y$ the __output__.\n",
    "\n",
    "Using the sum and product rules and knowing the values $p$, $p_{0\\to1}$ and $p_{1\\to0}$, we can calculate theoretically the marginal $P(Y=0)$. Say we did not know $p_{0_\\to1}$ or $p_{1\\to0}$, however, but were given a string output by the machine, we could still estimate $P(Y=0)$. Namely, given a length $n$ output, containing $k$ zero bits, then we would estimate $P(Y=0) = k/ n$. We denote this simulated estimate as $\\hat{P}(Y=0)$.\n",
    "\n",
    "The goal of this exercise is to calculate theoretically the marginal $P(Y=0)$ and to compare it with a simulated version $\\hat{P}(Y=0)$. Then we will represent graphically those values to see how much they differ. Finally we will graphically represent how the difference between the simulated estimate and the real value $P(Y=0)$ evolves, as $n$ becomes bigger and bigger.\n",
    "\n",
    "### Generating the input\n",
    "You will now randomly generate the input for the machine. You need to write a function `sample(n,p)` that returns a length $n$ random binary string, where the probability that any bit is $0$ is $p$.\n",
    "\n",
    "In order to help you, we provide you with a function `sample_bit(p)` which generates a $0$ or a $1$ with probability $p$."
   ]
  },
  {
   "cell_type": "code",
   "execution_count": 231,
   "metadata": {},
   "outputs": [],
   "source": [
    "def sample_bit(p):\n",
    "    if np.random.rand() < p: return 0\n",
    "    else: return 1    \n"
   ]
  },
  {
   "cell_type": "markdown",
   "metadata": {},
   "source": [
    "__TODO__ (0.5 pt) Explain what the function `np.random.rand()` does and why the function `sample_bit()` indeed returns a $0$ with probability $p$. Write you answer as a comment in the below below."
   ]
  },
  {
   "cell_type": "code",
   "execution_count": 235,
   "metadata": {
    "collapsed": true
   },
   "outputs": [],
   "source": [
    "# The function random.rand creates an array of random numbers \n",
    "# from a uniform distribution between 0 and 1, only 0 included. \n",
    "# If there are no arguments provided, the function simply \n",
    "# returns one value from that distribution "
   ]
  },
  {
   "cell_type": "markdown",
   "metadata": {},
   "source": [
    "__TODO__ (1 pt) Now using  `sample_bit`(), write the function `sample(n,p)` (as defined earlier). Next, call the function with the values $n=100$ and $p=0.2$ and print the result."
   ]
  },
  {
   "cell_type": "code",
   "execution_count": 239,
   "metadata": {},
   "outputs": [
    {
     "name": "stdout",
     "output_type": "stream",
     "text": [
      "1000111101111111111111110111110111110110111011111110101111111111101111101111110101111011111111111110\n"
     ]
    }
   ],
   "source": [
    "# I included a boolean argument string_mode, if set True the output is a string,\n",
    "# if set False the output is a list\n",
    "def sample(n,p,string_mode):\n",
    "    binary_values = []\n",
    "    for i in range(n):\n",
    "        binary_values.append(sample_bit(p))\n",
    "    if string_mode == True:\n",
    "        binary_string = ''.join(str(value) for value in binary_values)\n",
    "        return binary_string\n",
    "    return binary_values\n",
    "    \n",
    "s = sample(100,0.2,True)\n",
    "print(s)"
   ]
  },
  {
   "cell_type": "markdown",
   "metadata": {},
   "source": [
    "### Generating an output\n",
    "\n",
    "Given the input for the machine, we now generate outputs. We define a function `transform_sample(s,p00,p11)` where `s` is a length $n$ string input for the machine, $\\texttt{p00} = p_{0\\to0}$ is the probability that the machines recognizes a $0$ as a $0$ and $\\texttt{p11} = p_{1\\to1}$ is the probability that the machine recognizes a $1$ as a $1$. The output of the function is also a length $n$ string. \n",
    "\n",
    "__TODO__ (1 pt) Complete `transform_sample(s, p00, p11)` so that when the machine reads a $0$ in $s$, it should transforms it into a $1$ with probability $1-p_{0\\to0}$ etc.\n",
    "\n",
    "Finally you should call `transform_sample(s,p00,p11)` with the values $p_{0\\to0}=0.8$, $p_{1\\to1}=0.9$."
   ]
  },
  {
   "cell_type": "code",
   "execution_count": 242,
   "metadata": {},
   "outputs": [
    {
     "name": "stdout",
     "output_type": "stream",
     "text": [
      "1000111101111111111111110110110111110110111011111110101101111111101111101111010101111001111110111110\n"
     ]
    }
   ],
   "source": [
    "def transform_sample(s,p00,p11,string_mode):\n",
    "    output_values = []\n",
    "    for value in s:\n",
    "        if value == 0:\n",
    "            if np.random.rand() < p00:\n",
    "                output_values.append(value)\n",
    "            else:\n",
    "                output_values.append(1)\n",
    "        else:\n",
    "            if np.random.rand() < p11:\n",
    "                output_values.append(value)\n",
    "            else:\n",
    "                output_values.append(0)\n",
    "    if string_mode == True:\n",
    "        output_string = ''.join(str(value) for value in output_values)\n",
    "        return output_string\n",
    "    return output_values\n",
    "            \n",
    "\n",
    "t = transform_sample(s,0.8,0.9,True)\n",
    "print(t)        "
   ]
  },
  {
   "cell_type": "markdown",
   "metadata": {},
   "source": [
    "### Computing the marginal estimate $\\hat{P}(Y=0)$\n",
    "\n",
    "__TODO__ (0.5 pt) Given a length $n$ output, we can estimate the probabiliity that any bit is a $0$. This is simply $\\hat{P}(Y=0) = k / n$, where $k$ is the number of $0$ occurring in the output. Write a function `marginal_estimate(t)` which given a string `t`, returns $\\hat{P}(Y=0)$.  "
   ]
  },
  {
   "cell_type": "code",
   "execution_count": 289,
   "metadata": {},
   "outputs": [
    {
     "name": "stdout",
     "output_type": "stream",
     "text": [
      "0.22\n"
     ]
    }
   ],
   "source": [
    "def marginal_estimate(t,string_mode):\n",
    "    if len(t)>0:\n",
    "        if string_mode == True:\n",
    "            return t.count('0')/len(t)\n",
    "        else:\n",
    "            return t.count(0)/len(t)\n",
    "    else:\n",
    "        return t\n",
    "    \n",
    "est = marginal_estimate(t,True)\n",
    "print(est)"
   ]
  },
  {
   "cell_type": "markdown",
   "metadata": {},
   "source": [
    "### Theoretical computation of the true marginal $P(Y=0)$\n",
    "\n",
    "__TODO__ (0.5 pt)  Given $p$, $p_{0\\to0}$ and $p_{1\\to1}$, we can calculate the marginal $P(Y=0)$ exactly. Construct a function `marginal_theory(p,p00,p11)` that given $p$, $p_{0\\to0}$ and $p_{1\\to1}$, returns the probability that the machine returns a $0$.\n",
    "\n",
    "Use that function to compute that probability in the case where $p=0.2$, $p_{0\\to0}=0.8$ and $p_{1\\to1}=0.9$. Recall that the law of total probability is\n",
    "\n",
    "$\n",
    "P(A) = P(A |B) P(B) + P(A |B^c) P(B^c)\n",
    "$"
   ]
  },
  {
   "cell_type": "code",
   "execution_count": 290,
   "metadata": {},
   "outputs": [
    {
     "name": "stdout",
     "output_type": "stream",
     "text": [
      "0.24000000000000002\n"
     ]
    }
   ],
   "source": [
    "def marginal_theory(p,p00,p11):\n",
    "    return p00*p+(1-p11)*(1-p)\n",
    "\n",
    "new_p = marginal_theory(0.2,0.8,0.9)\n",
    "print(new_p)"
   ]
  },
  {
   "cell_type": "markdown",
   "metadata": {},
   "source": [
    "### Draw histogram to compare the two marginals\n",
    "\n",
    "We draw now two histograms, the first one to illustrate the theoretical probability $P(Y=0)$ and the second one to illustrate the simulated probability based on `t`. \n",
    "\n",
    "In the first histogram, the value $0$ should be mapped to the probability  $P(Y=0)$ computed with the function `marginal_theory()` and the value $1$ to $1 - P(Y=0)$. In the second histogram, $0$ should be mapped to the estimated marginal $\\hat{P}(Y=0)$ computed with the function `marginal_estimate()` etc.\n",
    "\n",
    "__TODO__ (0.5 pt) Draw the two histograms on top of each other and use the parameter `alpha` from the `plt.hist()` function, in order to make the histograms semi-transparent."
   ]
  },
  {
   "cell_type": "code",
   "execution_count": 291,
   "metadata": {},
   "outputs": [
    {
     "data": {
      "image/png": "[encoded data removed]",
      "text/plain": [
       "<matplotlib.figure.Figure at 0x7f56d1e00f28>"
      ]
     },
     "metadata": {},
     "output_type": "display_data"
    }
   ],
   "source": [
    "s_list = sample(100,0.2,False)\n",
    "t_list = transform_sample(s_new,0.8,0.9,False)\n",
    "\n",
    "plt.hist(s_list,2,alpha=0.5,range=(0,1))\n",
    "plt.hist(t_list,2,alpha=0.5,range=(0,1))\n",
    "plt.show()"
   ]
  },
  {
   "cell_type": "markdown",
   "metadata": {},
   "source": [
    "### Evolution of the simulation as $n$ grows\n",
    "\n",
    "We would expect that as $n$ grows, the marginal estimate $\\hat{P}(Y=0)$ should get closer to the true value. \n",
    "\n",
    "You will graph out the different values of the estimate for different values of $n$. For each value of $n \\in \\{1,2,...,N\\}$, we will generate $m$ different estimates based on the length $n$ output. All of these estimates will be represented in the graph and we will then see how those evolve as $n$ gets bigger.\n",
    "\n",
    "__TODO__ (1 pt) Define a function `graph(m,N,p,p00,p11)` that draws two overlaid graphs (use a different color for each graph). The domain of both graphs is `np.arange(1,N+1)`. Intuitively, each $n$ in the domain will specify the size of the string that we are using for $\\hat{P}(Y=0)$. The first graph should be a constant function displaying the value $P(Y=0)$ computed by `marginal_theory()`. The second graph should show the output of `compute_marginal()` for each value $n$. The probabilities `p`, `p00` and `p11` have the same interpretations as before. What do you notice?"
   ]
  },
  {
   "cell_type": "code",
   "execution_count": 300,
   "metadata": {},
   "outputs": [
    {
     "data": {
      "image/png": "[encoded data removed]",
      "text/plain": [
       "<matplotlib.figure.Figure at 0x7f56d43942b0>"
      ]
     },
     "metadata": {},
     "output_type": "display_data"
    }
   ],
   "source": [
    "def graph(m,N,p,p00,p11):\n",
    "    list1=[]\n",
    "    list2=[]\n",
    "    for i in range(1,N+1):\n",
    "        sampl = sample(i,p,False)\n",
    "        transformed = transform_sample(sampl,p00,p11,False)\n",
    "        var1 = marginal_estimate(transformed, False)\n",
    "        var2 = marginal_theory(p,p00,p11)\n",
    "        list1.append(var1)\n",
    "        list2.append(var2)\n",
    "    plt.plot(np.arange(1,N+1),list1,color='red')\n",
    "    plt.plot(np.arange(1,N+1),list2,color='blue')\n",
    "    plt.show()\n",
    "\n",
    "m = 20\n",
    "N = 250\n",
    "p = 0.2\n",
    "p00 = 0.8\n",
    "p11 = 0.9\n",
    "\n",
    "graph(m,N,p,p00,p11)\n",
    "\n",
    "# What is noticable is that as the length of the output grows, the marginal estimation\n",
    "# is able to estimate better and closer to the real marginal computed with marginal theory"
   ]
  }
 ],
 "metadata": {
  "kernelspec": {
   "display_name": "Python 3",
   "language": "python",
   "name": "python3"
  },
  "language_info": {
   "codemirror_mode": {
    "name": "ipython",
    "version": 3
   },
   "file_extension": ".py",
   "mimetype": "text/x-python",
   "name": "python",
   "nbconvert_exporter": "python",
   "pygments_lexer": "ipython3",
   "version": "3.6.3"
  }
 },
 "nbformat": 4,
 "nbformat_minor": 2
}
