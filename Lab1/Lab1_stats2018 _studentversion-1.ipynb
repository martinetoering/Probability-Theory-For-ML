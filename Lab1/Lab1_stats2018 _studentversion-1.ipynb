{
 "cells": [
  {
   "cell_type": "markdown",
   "metadata": {},
   "source": [
    "# Lab 1\n",
    "\n",
    "In the computer labs we will work with the Python programming language within a Jupyter notebook. Each week a new notebook is made available that contains the exercises that are to be handed-in. \n",
    "\n",
    "* It is expected that you work individually and the usual plagarism rules apply.\n",
    "* Submissions are to be made on canvas. Make sure that you add your student ID in the submission comments.\n",
    "* The main notebook file you submit should read \"Lab[number]_[last name].ipynb\", for example \"Lab2_Bongers.ipynb\". \n",
    "* Please make sure your code will run without problems\n",
    "\n",
    "_You need to fill in everywhere that there is a_ '__TODO__'\n",
    "\n",
    "Feel free ask any questions during the computer lab sessions, or email the TA.\n",
    "\n",
    "**The due date for the labs is next Wednesday at 23:59**"
   ]
  },
  {
   "cell_type": "code",
   "execution_count": 1,
   "metadata": {},
   "outputs": [],
   "source": [
    "# Load the numpy numerical computation library\n",
    "import numpy as np\n",
    "\n",
    "# Load matplotlib, which controls plotting pretty graphs\n",
    "import matplotlib.pyplot as plt\n",
    "%matplotlib inline"
   ]
  },
  {
   "cell_type": "markdown",
   "metadata": {},
   "source": [
    "## Exercise 1\n",
    "\n",
    "In this exercise, we will perform the same computations as in Problem 4 from Homework 1, herein refered to as Problem 1.4. \n",
    "\n",
    "### Matrix-vector products: \n",
    "__TODO__ (0.5 pt) Write a function `same_size(A,B)` that given an array $\\mathbf{A}$ and a vector $\\mathbf{b}$ determines whether the product $\\mathbf{A} \\mathbf{b}$ is well-defined. The function should check that the number of columns of $\\mathbf{A}$ equals the number of rows of $\\mathbf{b}$ returning `True` or `False` accordingly.\n",
    "\n",
    "We will use the python library `numpy`, which is designed to perfom matrix computations. Recall that in `numpy`, there is a function `shape` that given an array returns a tuple $(m,n,...)$, where $m$ is number of rows, $n$ is number of columns etc. "
   ]
  },
  {
   "cell_type": "code",
   "execution_count": null,
   "metadata": {},
   "outputs": [],
   "source": []
  },
  {
   "cell_type": "markdown",
   "metadata": {},
   "source": [
    "__TODO__ Now we define $\\mathbf{A}$ and $\\mathbf{b}$ as in Homework problem 4 and check that our function indeed says that the product $\\mathbf{A}\\mathbf{b}$ is well-defined.  "
   ]
  },
  {
   "cell_type": "code",
   "execution_count": 2,
   "metadata": {},
   "outputs": [
    {
     "ename": "NameError",
     "evalue": "name 'same_size' is not defined",
     "output_type": "error",
     "traceback": [
      "\u001b[1;31m---------------------------------------------------------------------------\u001b[0m",
      "\u001b[1;31mNameError\u001b[0m                                 Traceback (most recent call last)",
      "\u001b[1;32m<ipython-input-2-7bfa2a628973>\u001b[0m in \u001b[0;36m<module>\u001b[1;34m()\u001b[0m\n\u001b[0;32m      7\u001b[0m \u001b[0mb\u001b[0m \u001b[1;33m=\u001b[0m \u001b[0mb\u001b[0m\u001b[1;33m.\u001b[0m\u001b[0mreshape\u001b[0m\u001b[1;33m(\u001b[0m\u001b[1;33m(\u001b[0m\u001b[1;36m2\u001b[0m\u001b[1;33m,\u001b[0m\u001b[1;36m1\u001b[0m\u001b[1;33m)\u001b[0m\u001b[1;33m)\u001b[0m\u001b[1;33m\u001b[0m\u001b[0m\n\u001b[0;32m      8\u001b[0m \u001b[1;33m\u001b[0m\u001b[0m\n\u001b[1;32m----> 9\u001b[1;33m \u001b[0mprint\u001b[0m\u001b[1;33m(\u001b[0m\u001b[0msame_size\u001b[0m\u001b[1;33m(\u001b[0m\u001b[0mA\u001b[0m\u001b[1;33m,\u001b[0m\u001b[0mb\u001b[0m\u001b[1;33m)\u001b[0m\u001b[1;33m)\u001b[0m\u001b[1;33m\u001b[0m\u001b[0m\n\u001b[0m",
      "\u001b[1;31mNameError\u001b[0m: name 'same_size' is not defined"
     ]
    }
   ],
   "source": [
    "\n",
    "list_A = [[1, 2],[3, 4]]\n",
    "A = np.array(list_A)\n",
    "\n",
    "list_b = [5, 6]\n",
    "b = np.array(list_b)\n",
    "b = b.reshape((2,1))\n",
    "\n",
    "print(same_size(A,b))"
   ]
  },
  {
   "cell_type": "markdown",
   "metadata": {},
   "source": [
    "__TODO__ (0.25 pt) Now give an example where `same_size()` would return the value `False`."
   ]
  },
  {
   "cell_type": "code",
   "execution_count": null,
   "metadata": {},
   "outputs": [],
   "source": []
  },
  {
   "cell_type": "markdown",
   "metadata": {},
   "source": [
    "__TODO__ (1 pt) Now write a function `product(A,B)` that computes the matrix-matrix product $\\mathbf{A} \\mathbf{B}$. The function should first call `same_size()` to check whether $\\mathbf{A} \\mathbf{B}$ is well-defined. If the product is not well-defined, `product()` should return False; otherwise, returning the result $\\mathbf{A} \\mathbf{B}$.\n",
    "\n",
    "For this exercise you may not use pre-existing numpy functions. You must implement the formula $(\\mathbf{A} \\mathbf{B})_{ij} = \\sum_{l=1}^m A_{il} B_{lj} $ (if $\\mathbf{A}$ is an array of size $(n,k)$ and $\\mathbf{B}$ is an array of size $(k,m)$). "
   ]
  },
  {
   "cell_type": "code",
   "execution_count": null,
   "metadata": {},
   "outputs": [],
   "source": [
    "\n",
    "\n",
    "# insert your code \n",
    "\n",
    "print(product(A,b))\n"
   ]
  },
  {
   "cell_type": "markdown",
   "metadata": {},
   "source": [
    "Let us now use `product()` to solve Problem 1.4.2. \n",
    "\n",
    "__TODO__ Compute the product $\\mathbf{b}^T \\mathbf{A}$. Check that the answer is the same as the one you found in your written assignment."
   ]
  },
  {
   "cell_type": "code",
   "execution_count": null,
   "metadata": {},
   "outputs": [],
   "source": [
    "print(product(b.T,A))"
   ]
  },
  {
   "cell_type": "markdown",
   "metadata": {},
   "source": [
    "To define `product()`, you were asked to not use any built-in functions. There is however already a function in numpy that computes the product of 2 matrices. \n",
    "\n",
    "__TODO__ (0.25 pt) Find that function in the library and use it to compute the product  $\\mathbf{b}^T \\mathbf{A}$. You should find the same answer as the one you obtained using your own function `product()`."
   ]
  },
  {
   "cell_type": "code",
   "execution_count": null,
   "metadata": {},
   "outputs": [],
   "source": []
  },
  {
   "cell_type": "markdown",
   "metadata": {},
   "source": [
    "You will now write a function that computes the inverse of an array $\\mathbf{A}$ of size $(2,2)$. You may not use any pre-existing inverse functions from any libraries, but instead use the definition $$\\begin{bmatrix} a & b \\\\ c & d \\end{bmatrix} = \\text{det}(\\mathbf{A})^{-1} \\begin{bmatrix} d & -b \\\\ -c & a \\end{bmatrix}.$$\n",
    "\n",
    "__TODO__ (1 pt)  First write a function `determinant(A)` that given an array $\\mathbf{A}$ of size $(2,2)$ returns the determinant of $\\mathbf{A}$. Recall that $\\text{det}\\left(\\begin{bmatrix} a & b \\\\ c & d \\end{bmatrix}\\right)=ad - bc$."
   ]
  },
  {
   "cell_type": "code",
   "execution_count": null,
   "metadata": {},
   "outputs": [],
   "source": [
    "#insert your code\n",
    "\n",
    "print(determinant(A))\n"
   ]
  },
  {
   "cell_type": "markdown",
   "metadata": {},
   "source": [
    "__TODO__ (0.25 pt) In the library `numpy.linalg`, there is an already built-in function that computes the determinant. Use that function to compute the determinant of $\\mathbf{A}$ and check that you obtained the same result as with your own function `determinant(A)`. "
   ]
  },
  {
   "cell_type": "code",
   "execution_count": null,
   "metadata": {},
   "outputs": [],
   "source": []
  },
  {
   "cell_type": "markdown",
   "metadata": {},
   "source": [
    "__TODO__ (1 pt) Now use `determinant()` to define the function `inverse(A)`."
   ]
  },
  {
   "cell_type": "code",
   "execution_count": null,
   "metadata": {},
   "outputs": [],
   "source": []
  },
  {
   "cell_type": "markdown",
   "metadata": {},
   "source": [
    "__TODO__ Let us use this function to calculate $\\mathbf{A}^{-1}$ as in Problem 1.4. Compare this answer with the answer from your written assignement. "
   ]
  },
  {
   "cell_type": "code",
   "execution_count": null,
   "metadata": {},
   "outputs": [],
   "source": [
    "print(inverse(A))"
   ]
  },
  {
   "cell_type": "markdown",
   "metadata": {},
   "source": [
    "In `numpy`, there is also a function that directly calculates the inverse of an array [`np.linalg.inv`] (https://docs.scipy.org/doc/numpy/reference/generated/numpy.linalg.inv.html)\n",
    "\n",
    "__TODO__ (0.25 pt) Print the inverse of $\\mathbf{A}$ using the inverse function. Check that this is equal to your previous result."
   ]
  },
  {
   "cell_type": "code",
   "execution_count": null,
   "metadata": {},
   "outputs": [],
   "source": []
  },
  {
   "cell_type": "markdown",
   "metadata": {},
   "source": [
    "__BONUS__ (1 pt) Below there are 2 functions `matching` and `matching_bis` that check whether the inverse of $\\mathbf{A}$ calculated using `np.linalg.inv()` is equal to your own `inverse()`. The functions return `1` if the 2 matrices are equal and `0` otherwise. Can you guess why the first function returns $0$ d the second function returns a $1$ even though the 2 matrices are equal? "
   ]
  },
  {
   "cell_type": "code",
   "execution_count": null,
   "metadata": {},
   "outputs": [],
   "source": [
    "A1 = inverse(A)\n",
    "A2 = np.linalg.inv(A)\n",
    "\n",
    "def matching(A1,A2):\n",
    "    print(np.prod(np.equal(A1,A2)))\n",
    "    \n",
    "def matching_bis(A1,A2):\n",
    "    print(np.prod(np.isclose(A1,A2)))\n",
    "    \n",
    "matching(A1,A2)\n",
    "matching_bis(A1,A2)"
   ]
  },
  {
   "cell_type": "markdown",
   "metadata": {},
   "source": [
    "Finally in Problem 1.4.4, you had to calculate $\\mathbf{A}^{-1}\\mathbf{b}$.\n",
    "\n",
    "__TODO__ Use your functions `inverse()` and `product()` to compute $\\mathbf{A}^{-1}\\mathbf{b}$. You can check that this matches your answer from the written assignment."
   ]
  },
  {
   "cell_type": "code",
   "execution_count": null,
   "metadata": {},
   "outputs": [],
   "source": [
    "print(product(inverse(A),b))"
   ]
  },
  {
   "cell_type": "markdown",
   "metadata": {},
   "source": [
    "__TODO__ (0.5 pt) Now try this for the matrix $\\mathbf{A} = \\begin{bmatrix} 3 & 6 \\\\ 2 & 4 \\end{bmatrix}$. Why do you get this result? Write your answer as a comment in the code."
   ]
  },
  {
   "cell_type": "code",
   "execution_count": null,
   "metadata": {},
   "outputs": [],
   "source": [
    "A = np.asarray([[3,6],[2,4]])\n",
    "print(product(inverse(A),b))"
   ]
  },
  {
   "cell_type": "markdown",
   "metadata": {},
   "source": [
    "## Exercise 2\n",
    "This exercise is based on the hard drive example in the Week 1 notes.\n",
    "\n",
    "You are given a binary input string of length $n$. The probability of a particular bit $X$ being 0 is $P(X=0) = p$ (clearly $P(X=1)=1-p$). This string is read by a machine which is prone to read-errors. If $Y$ denotes the bit read (after errors), then with a probability $P(Y=1 | X=0)=p_{0\\to 1}$, the machine reads a $0$ instead of a $1$ and with a probability $P(Y=0 | X=1)=p_{1\\to 0}$, it reads a $1$ as a $0$. We call $X$ the __input__ and $Y$ the __output__.\n",
    "\n",
    "Using the sum and product rules and knowing the values $p$, $p_{0\\to1}$ and $p_{1\\to0}$, we can calculate theoretically the marginal $P(Y=0)$. Say we did not know $p_{0_\\to1}$ or $p_{1\\to0}$, however, but were given a string output by the machine, we could still estimate $P(Y=0)$. Namely, given a length $n$ output, containing $k$ zero bits, then we would estimate $P(Y=0) = k/ n$. We denote this simulated estimate as $\\hat{P}(Y=0)$.\n",
    "\n",
    "The goal of this exercise is to calculate theoretically the marginal $P(Y=0)$ and to compare it with a simulated version $\\hat{P}(Y=0)$. Then we will represent graphically those values to see how much they differ. Finally we will graphically represent how the difference between the simulated estimate and the real value $P(Y=0)$ evolves, as $n$ becomes bigger and bigger.\n",
    "\n",
    "### Generating the input\n",
    "You will now randomly generate the input for the machine. You need to write a function `sample(n,p)` that returns a length $n$ random binary string, where the probability that any bit is $0$ is $p$.\n",
    "\n",
    "In order to help you, we provide you with a function `sample_bit(p)` which generates a $0$ or a $1$ with probability $p$."
   ]
  },
  {
   "cell_type": "code",
   "execution_count": null,
   "metadata": {},
   "outputs": [],
   "source": [
    "def sample_bit(p):\n",
    "    if np.random.rand() < p: return 0\n",
    "    else: return 1"
   ]
  },
  {
   "cell_type": "markdown",
   "metadata": {},
   "source": [
    "__TODO__ (0.5 pt) Explain what the function `np.random.rand()` does and why the function `sample_bit()` indeed returns a $0$ with probability $p$. Write you answer as a comment in the below below."
   ]
  },
  {
   "cell_type": "code",
   "execution_count": null,
   "metadata": {},
   "outputs": [],
   "source": []
  },
  {
   "cell_type": "markdown",
   "metadata": {},
   "source": [
    "__TODO__ (1 pt) Now using  `sample_bit`(), write the function `sample(n,p)` (as defined earlier). Next, call the function with the values $n=100$ and $p=0.2$ and print the result."
   ]
  },
  {
   "cell_type": "code",
   "execution_count": null,
   "metadata": {},
   "outputs": [],
   "source": [
    "#insert your code\n",
    "\n",
    "s = sample(100,0.2)\n",
    "print(s)"
   ]
  },
  {
   "cell_type": "markdown",
   "metadata": {},
   "source": [
    "### Generating an output\n",
    "\n",
    "Given the input for the machine, we now generate outputs. We define a function `transform_sample(s,p00,p11)` where `s` is a length $n$ string input for the machine, $\\texttt{p00} = p_{0\\to0}$ is the probability that the machines recognizes a $0$ as a $0$ and $\\texttt{p11} = p_{1\\to1}$ is the probability that the machine recognizes a $1$ as a $1$. The output of the function is also a length $n$ string. \n",
    "\n",
    "__TODO__ (1 pt) Complete `transform_sample(s, p00, p11)` so that when the machine reads a $0$ in $s$, it should transforms it into a $1$ with probability $1-p_{0\\to0}$ etc.\n",
    "\n",
    "Finally you should call `transform_sample(s,p00,p11)` with the values $p_{0\\to0}=0.8$, $p_{1\\to1}=0.9$."
   ]
  },
  {
   "cell_type": "code",
   "execution_count": null,
   "metadata": {},
   "outputs": [],
   "source": [
    "# insert your code\n",
    "\n",
    "t = transform_sample(s,0.8,0.9)\n",
    "print(t)        "
   ]
  },
  {
   "cell_type": "markdown",
   "metadata": {},
   "source": [
    "### Computing the marginal estimate $\\hat{P}(Y=0)$\n",
    "\n",
    "__TODO__ (0.5 pt) Given a length $n$ output, we can estimate the probabiliity that any bit is a $0$. This is simply $\\hat{P}(Y=0) = k / n$, where $k$ is the number of $0$ occurring in the output. Write a function `marginal_estimate(t)` which given a string `t`, returns $\\hat{P}(Y=0)$.  "
   ]
  },
  {
   "cell_type": "code",
   "execution_count": null,
   "metadata": {},
   "outputs": [],
   "source": [
    "#insert your code\n",
    "\n",
    "print(marginal_estimate(t))"
   ]
  },
  {
   "cell_type": "markdown",
   "metadata": {},
   "source": [
    "### Theoretical computation of the true marginal $P(Y=0)$\n",
    "\n",
    "__TODO__ (0.5 pt)  Given $p$, $p_{0\\to0}$ and $p_{1\\to1}$, we can calculate the marginal $P(Y=0)$ exactly. Construct a function `marginal_theory(p,p00,p11)` that given $p$, $p_{0\\to0}$ and $p_{1\\to1}$, returns the probability that the machine returns a $0$.\n",
    "\n",
    "Use that function to compute that probability in the case where $p=0.2$, $p_{0\\to0}=0.8$ and $p_{1\\to1}=0.9$. Recall that the law of total probability is\n",
    "\n",
    "$\n",
    "P(A) = P(A |B) P(B) + P(A |B^c) P(B^c)\n",
    "$"
   ]
  },
  {
   "cell_type": "code",
   "execution_count": null,
   "metadata": {},
   "outputs": [],
   "source": [
    "#insert your code\n",
    "\n",
    "new_p = marginal_theory(0.2,0.8,0.9)\n",
    "print(new_p)"
   ]
  },
  {
   "cell_type": "markdown",
   "metadata": {},
   "source": [
    "### Draw histogram to compare the two marginals\n",
    "\n",
    "We draw now two histograms, the first one to illustrate the theoretical probability $P(Y=0)$ and the second one to illustrate the simulated probability based on `t`. \n",
    "\n",
    "In the first histogram, the value $0$ should be mapped to the probability  $P(Y=0)$ computed with the function `marginal_theory()` and the value $1$ to $1 - P(Y=0)$. In the second histogram, $0$ should be mapped to the estimated marginal $\\hat{P}(Y=0)$ computed with the function `marginal_estimate()` etc.\n",
    "\n",
    "__TODO__ (0.5 pt) Draw the two histograms on top of each other and use the parameter `alpha` from the `plt.hist()` function, in order to make the histograms semi-transparent."
   ]
  },
  {
   "cell_type": "code",
   "execution_count": null,
   "metadata": {},
   "outputs": [],
   "source": [
    "\n"
   ]
  },
  {
   "cell_type": "markdown",
   "metadata": {},
   "source": [
    "### Evolution of the simulation as $n$ grows\n",
    "\n",
    "We would expect that as $n$ grows, the marginal estimate $\\hat{P}(Y=0)$ should get closer to the true value. \n",
    "\n",
    "You will graph out the different values of the estimate for different values of $n$. For each value of $n \\in \\{1,2,...,N\\}$, we will generate $m$ different estimates based on the length $n$ output. All of these estimates will be represented in the graph and we will then see how those evolve as $n$ gets bigger.\n",
    "\n",
    "__TODO__ (1 pt) Define a function `graph(m,N,p,p00,p11)` that draws two overlaid graphs (use a different color for each graph). The domain of both graphs is `np.arange(1,N+1)`. Intuitively, each $n$ in the domain will specify the size of the string that we are using for $\\hat{P}(Y=0)$. The first graph should be a constant function displaying the value $P(Y=0)$ computed by `marginal_theory()`. The second graph should show the output of `compute_marginal()` for each value $n$. The probabilities `p`, `p00` and `p11` have the same interpretations as before. What do you notice?"
   ]
  },
  {
   "cell_type": "code",
   "execution_count": null,
   "metadata": {},
   "outputs": [],
   "source": [
    "#insert your code\n",
    "\n",
    "m = 20\n",
    "N = 250\n",
    "p = 0.2\n",
    "p00 = 0.8\n",
    "p11 = 0.9\n",
    "\n",
    "graph(m,N,p,p00,p11)"
   ]
  }
 ],
 "metadata": {
  "kernelspec": {
   "display_name": "Python 3",
   "language": "python",
   "name": "python3"
  },
  "language_info": {
   "codemirror_mode": {
    "name": "ipython",
    "version": 3
   },
   "file_extension": ".py",
   "mimetype": "text/x-python",
   "name": "python",
   "nbconvert_exporter": "python",
   "pygments_lexer": "ipython3",
   "version": "3.6.4"
  }
 },
 "nbformat": 4,
 "nbformat_minor": 2
}
