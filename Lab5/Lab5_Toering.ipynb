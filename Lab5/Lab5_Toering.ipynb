{
 "cells": [
  {
   "cell_type": "markdown",
   "metadata": {},
   "source": [
    "# Lab 5 Toering 11302925\n",
    "\n",
    "\n",
    "* It is expected that you work individually and the usual plagarism rules apply.\n",
    "* Submissions are to be made on canvas. Make sure that you add your student ID in the submission comments.\n",
    "* The main notebook file you submit should read \"Lab[number]_[last name].ipynb\", for example \"Lab2_Bongers.ipynb\". \n",
    "* Please make sure your code will run without problems\n",
    "\n",
    "_You need to fill in everywhere that there is a_ '__TODO__'\n",
    "\n",
    "Feel free ask any questions during the computer lab sessions, or email the TA.\n",
    "\n",
    "**The due date for the labs is next Wednesday at 14:59**\n",
    "\n",
    "## Part 1\n",
    "\n",
    "\n",
    "In this part of the lab you will plot the prior, posterior and predictive distributions for a set of data that we assume to follow an exponential distribution."
   ]
  },
  {
   "cell_type": "code",
   "execution_count": 1,
   "metadata": {
    "collapsed": true
   },
   "outputs": [],
   "source": [
    "import numpy as np\n",
    "import scipy.stats as st\n",
    "import matplotlib.pyplot as plt\n",
    "%matplotlib inline\n",
    "\n",
    "import statsmodels.datasets\n",
    "\n",
    "from scipy import integrate"
   ]
  },
  {
   "cell_type": "markdown",
   "metadata": {},
   "source": [
    "Statsmodels is a Python package for conducting statistical data analyses. It also contains real-world datasets that we can use when experimenting with new methods. Here, we load the heart dataset. Each line indicates the number of days that a patient survived after a heart transplant, together with the age of the patient.\n",
    "\n",
    "Here you can have a look at the 5 last lines of the data frame."
   ]
  },
  {
   "cell_type": "code",
   "execution_count": 2,
   "metadata": {},
   "outputs": [
    {
     "data": {
      "text/html": [
       "<div>\n",
       "<style>\n",
       "    .dataframe thead tr:only-child th {\n",
       "        text-align: right;\n",
       "    }\n",
       "\n",
       "    .dataframe thead th {\n",
       "        text-align: left;\n",
       "    }\n",
       "\n",
       "    .dataframe tbody tr th {\n",
       "        vertical-align: top;\n",
       "    }\n",
       "</style>\n",
       "<table border=\"1\" class=\"dataframe\">\n",
       "  <thead>\n",
       "    <tr style=\"text-align: right;\">\n",
       "      <th></th>\n",
       "      <th>survival</th>\n",
       "      <th>censors</th>\n",
       "      <th>age</th>\n",
       "    </tr>\n",
       "  </thead>\n",
       "  <tbody>\n",
       "    <tr>\n",
       "      <th>64</th>\n",
       "      <td>14.0</td>\n",
       "      <td>1.0</td>\n",
       "      <td>40.3</td>\n",
       "    </tr>\n",
       "    <tr>\n",
       "      <th>65</th>\n",
       "      <td>167.0</td>\n",
       "      <td>0.0</td>\n",
       "      <td>26.7</td>\n",
       "    </tr>\n",
       "    <tr>\n",
       "      <th>66</th>\n",
       "      <td>110.0</td>\n",
       "      <td>0.0</td>\n",
       "      <td>23.7</td>\n",
       "    </tr>\n",
       "    <tr>\n",
       "      <th>67</th>\n",
       "      <td>13.0</td>\n",
       "      <td>0.0</td>\n",
       "      <td>28.9</td>\n",
       "    </tr>\n",
       "    <tr>\n",
       "      <th>68</th>\n",
       "      <td>1.0</td>\n",
       "      <td>0.0</td>\n",
       "      <td>35.2</td>\n",
       "    </tr>\n",
       "  </tbody>\n",
       "</table>\n",
       "</div>"
      ],
      "text/plain": [
       "    survival  censors   age\n",
       "64      14.0      1.0  40.3\n",
       "65     167.0      0.0  26.7\n",
       "66     110.0      0.0  23.7\n",
       "67      13.0      0.0  28.9\n",
       "68       1.0      0.0  35.2"
      ]
     },
     "execution_count": 2,
     "metadata": {},
     "output_type": "execute_result"
    }
   ],
   "source": [
    "data_original = statsmodels.datasets.heart.load_pandas().data\n",
    "data_original.tail()"
   ]
  },
  {
   "cell_type": "markdown",
   "metadata": {},
   "source": [
    "This dataset contains censored and uncensored data: a censor of $0$ means that the patient was alive at the end of the study, and thus we don't know the exact survival time. We only know that the patient survived at least the indicated number of days. For simplicity here, we only keep uncensored data (we thereby introduce a bias toward patients that did not survive very long after their transplant) and we store it in an array 'data_full'. We also divided each number by 365, so the period of time that a patient survived a heart transplant is given in years."
   ]
  },
  {
   "cell_type": "code",
   "execution_count": 3,
   "metadata": {
    "collapsed": true
   },
   "outputs": [],
   "source": [
    "data_original = data_original[data_original.censors == 1]\n",
    "survival = data_original.survival\n",
    "survival=np.array(survival)\n",
    "data_full=survival/365"
   ]
  },
  {
   "cell_type": "markdown",
   "metadata": {},
   "source": [
    "In the array 'data', we store the first 'p' elements of 'data_complete'. First, we let 'p' be $10$. The idea is we are going to predict the distribution of the survival time only using 'p' data (while the full dataset contains $69$ data) and later, we can play with the value of 'p' and see how many data are actually needed to have a satisfying prediction. We also plot the data. "
   ]
  },
  {
   "cell_type": "code",
   "execution_count": 4,
   "metadata": {},
   "outputs": [
    {
     "data": {
      "text/plain": [
       "Text(0.5,1,'Scatter plot of training data $\\\\mathcal{D}$')"
      ]
     },
     "execution_count": 4,
     "metadata": {},
     "output_type": "execute_result"
    },
    {
     "data": {
      "image/png": "[encoded data removed]",
      "text/plain": [
       "<matplotlib.figure.Figure at 0x7fc203e59f60>"
      ]
     },
     "metadata": {},
     "output_type": "display_data"
    }
   ],
   "source": [
    "# restricting the data to p elements\n",
    "p=10\n",
    "data=data_full[:p]\n",
    "N=len(data)\n",
    "\n",
    "# plotting the data\n",
    "datamin = np.amin(data)\n",
    "datamax = np.amax(data)\n",
    "absmax = np.maximum(np.abs(datamin), np.abs(datamax)) + 1\n",
    "plt.figure(0)\n",
    "plt.scatter(data, np.zeros(data.shape))\n",
    "plt.xlim(-absmax, absmax)\n",
    "plt.title('Scatter plot of training data $\\mathcal{D}$', fontsize=12)"
   ]
  },
  {
   "cell_type": "markdown",
   "metadata": {},
   "source": [
    "We assume that the data follows an exponential distribution with parameter $\\lambda$. That is,\n",
    "$$\n",
    "p(x|\\lambda)=\\lambda e^{-\\lambda x}\n",
    "$$\n",
    "We also suppose that the prior distribution for $\\lambda$ is a Gamma distribution with parameters $\\alpha$ and $\\beta$\n",
    "$$\n",
    "p(\\lambda | \\alpha, \\beta)= \\frac{1}{Z(\\alpha,\\beta)} \\lambda^{\\alpha-1} e^{-\\beta \\lambda}\n",
    "$$\n",
    "Initially, we suppose $\\alpha=2$ and $\\beta=2$. We start by plotting the prior distribution. The code below plots the function\n",
    "$$\n",
    "x^{\\alpha-1} e^{-\\beta x}\n",
    "$$\n",
    "So if we would normalize that function, we would obtain the prior distribution. It is *almost* the prior, the problem being that the area under the graph might not be $1$."
   ]
  },
  {
   "cell_type": "code",
   "execution_count": 5,
   "metadata": {},
   "outputs": [
    {
     "data": {
      "image/png": "[encoded data removed]",
      "text/plain": [
       "<matplotlib.figure.Figure at 0x7fc203e59588>"
      ]
     },
     "metadata": {},
     "output_type": "display_data"
    }
   ],
   "source": [
    "#plotting the prior up to a constant (not normalized)\n",
    "\n",
    "def gam(x,alpha=1.1,beta=3):\n",
    "    return x**(alpha-1)*np.exp(-x*beta)\n",
    "\n",
    "alpha=1.1\n",
    "beta=3\n",
    "x=np.linspace(0,8,50)\n",
    "plt.plot(x,gam(x, alpha=alpha, beta=beta))\n",
    "plt.show()"
   ]
  },
  {
   "cell_type": "markdown",
   "metadata": {},
   "source": [
    "One way from the previous graph to obtain the prior distribution is to define a function `area(func,a,b)` that computes the area under the graph of the function `func` in the interval $[a,b]$. Then we define a function `norm_plot(func,a,b,legend)` which given a function `func` and an interval $[a,b]$, plots the *normalized* graph of `func` in the interval $[a,b]$ and write `legend` as a legend of the graph. You don't have to write the code for `norm_plot(func,a,b,legend)`, but make sure you understand how it works.  \n",
    "\n",
    "__TODO1__ (0.5 pt) Define the function `area(func,a,b)`. In order to compute the area under the graph of a function, we use integration. You can use the following built-in function to define  `area(func,a,b)`:\n",
    "https://docs.scipy.org/doc/scipy/reference/generated/scipy.integrate.quad.html#scipy.integrate.quad\n",
    "\n",
    "Make sure that the output is indeed a scalar."
   ]
  },
  {
   "cell_type": "code",
   "execution_count": 6,
   "metadata": {
    "collapsed": true
   },
   "outputs": [],
   "source": [
    "def area(func,a,b):\n",
    "    return integrate.quad(func, a, b)[0]\n",
    "    \n",
    "\n",
    "def norm_plot(func,a,b,legend):\n",
    "    x=np.linspace(a,b,100)\n",
    "    norm_func=func(x)*(1/area(func,a,b))\n",
    "    plt.plot(x,norm_func,label=legend)"
   ]
  },
  {
   "cell_type": "markdown",
   "metadata": {},
   "source": [
    "__TODO2__(0.5 pt) Using the function `norm_plot`, plot the prior distribution in the interval $[0,8]$."
   ]
  },
  {
   "cell_type": "code",
   "execution_count": 7,
   "metadata": {},
   "outputs": [
    {
     "data": {
      "image/png": "[encoded data removed]",
      "text/plain": [
       "<matplotlib.figure.Figure at 0x7fc1fe532978>"
      ]
     },
     "metadata": {},
     "output_type": "display_data"
    }
   ],
   "source": [
    "#plot the prior\n",
    "norm_plot(gam,0,8,\"Normalized prior\")\n",
    "\n",
    "plt.legend()\n",
    "plt.show()"
   ]
  },
  {
   "cell_type": "markdown",
   "metadata": {},
   "source": [
    "The formula for calculating the posterior distribution is \n",
    "$$\n",
    "p(\\lambda|\\mathcal{D}) = \\frac{p(\\mathcal{D}|\\lambda)p(\\lambda)}{p(\\mathcal{D})}\n",
    "$$\n",
    "where $\\mathcal{D}$ is the training data. Before calculating analytically the posterior distribution for $\\lambda$, we will compute by brute force the value of $\\lambda$, which we call $\\lambda_{\\text{brute force}}$, such that $p(\\lambda_{\\text{brute force}}|\\mathcal{D})$ is maximized. \n",
    "\n",
    "Given the above equation, we know that\n",
    "$$\n",
    "p(\\lambda|\\mathcal{D}) \\propto p(\\mathcal{D}|\\lambda)p(\\lambda)\n",
    "$$\n",
    "So we have to find $\\lambda_{\\text{brute force}}$ such that \n",
    "$$\n",
    "p(\\mathcal{D}|\\lambda_{\\text{brute force}})p(\\lambda_{\\text{brute force}})\n",
    "$$\n",
    "is maximized. \n",
    "\n",
    "The idea is that for *enough* $\\lambda_1, \\dots,\\lambda_k$, we compute the array `A`\n",
    "$$\n",
    "\\texttt{A} = \\begin{bmatrix}\n",
    "p(\\mathcal{D}|\\lambda_1)p(\\lambda_1) \\\\\n",
    "p(\\mathcal{D}|\\lambda_2)p(\\lambda_2) \\\\\n",
    "\\dots \\\\\n",
    "p(\\mathcal{D}|\\lambda_k)p(\\lambda_k)\n",
    "\\end{bmatrix}\n",
    "$$\n",
    "and then using the `argmax` function (as in a previous assignment), we find the $\\lambda_i$ corresponding to the highest value in `A`. This $\\lambda_i$ is our $\\lambda_{\\text{brute force}}$. \n",
    "\n",
    "__TODO3__ (1 pt) Write a program that outputs the value of the variable `lambda_brute_force`, which should be $\\lambda_{\\text{brute force}}$. It should follow the steps of the method described above. In order to generate the set $\\{ \\lambda_1, \\dots,\\lambda_k \\}$, you can use `np.linspace(0,10,k)`. Then define the array `A` as above. Note that $p(\\mathcal{D}|\\lambda_j)$ refers to an exponential distribution with parameter $\\lambda_j$ and $p(\\lambda_j)$ refers to a gamma distribution with parameters $\\alpha$ and $\\beta$ ($\\alpha$ and $\\beta$ have the same values as before). Finally, using `argmax`, find the $\\lambda_i$ corresponding to the highest value of `A`. \n",
    "\n",
    "__BONUS__ (1.5 pt) Write the program without using any `for` loops."
   ]
  },
  {
   "cell_type": "code",
   "execution_count": 8,
   "metadata": {},
   "outputs": [
    {
     "name": "stdout",
     "output_type": "stream",
     "text": [
      "The brute force estimator of lambda is:  0.20408163265306123\n"
     ]
    }
   ],
   "source": [
    "k=50\n",
    "\n",
    "def exponential(data,parameter):\n",
    "    data = np.array([data])\n",
    "    parameter = np.array([parameter])\n",
    "    return np.prod(np.dot(parameter,np.exp(-np.dot(data.T,parameter))), axis=0)\n",
    "\n",
    "A = np.empty([k])\n",
    "lambdas = np.linspace(0,10,k)\n",
    "gam_lambdas = gam(lambdas, alpha=2, beta=2)\n",
    "A = (exponential(x,lambdas)*gam_lambdas)\n",
    "lambda_brute_force = lambdas[np.argmax(A)]\n",
    "\n",
    "#given\n",
    "print(\"The brute force estimator of lambda is: \", lambda_brute_force)"
   ]
  },
  {
   "cell_type": "markdown",
   "metadata": {},
   "source": [
    "__TODO4__ (1 pt) Define `alpha_post` and `beta_post` as the parameters of the posterior distribution (the formulas for `alpha_post` and `beta_post` are the answers from the first question of the tutorial). Plot the posterior distribution using the function `norm_plot`. Note that this time, you cannot use the function `gam` as this function has parameters $\\alpha$ and $\\beta$ (and the parameters should be `alpha_post` and `beta_post`). So you need to define a new function as an input for `norm_plot`. \n",
    "\n",
    "We also plotted for you the prior distribution and the brute force estimator. So you can compare those with the posterior distribution."
   ]
  },
  {
   "cell_type": "code",
   "execution_count": 9,
   "metadata": {
    "scrolled": true
   },
   "outputs": [
    {
     "data": {
      "image/png": "[encoded data removed]",
      "text/plain": [
       "<matplotlib.figure.Figure at 0x7fc1fe462dd8>"
      ]
     },
     "metadata": {},
     "output_type": "display_data"
    }
   ],
   "source": [
    "#plot the posterior distribution, to be filled in\n",
    "def gam2(x,alpha=1.1,beta=3):\n",
    "    return x**((alpha+N)-1)*np.exp(-x*(beta+np.sum(data)))\n",
    "\n",
    "alpha_post = alpha+N\n",
    "beta_post = beta+np.sum(data)\n",
    "norm_plot(gam2,0,8,'Posterior')\n",
    "\n",
    "#plot the prior distribution, given\n",
    "norm_plot(gam,0,8,'Prior')\n",
    "\n",
    "#plot the brute force operator, given\n",
    "plt.plot(20*[lambda_brute_force],np.linspace(0,1.2,20),label='Brute force estimator')\n",
    "plt.legend()\n",
    "plt.show()"
   ]
  },
  {
   "cell_type": "markdown",
   "metadata": {},
   "source": [
    "__TODO5__ (0.5 pt) Try again to run the above program with different values for `p` and for $\\alpha$ and $\\beta$. Starting from which value of `p`, are we starting to have a stable prediction? (that is, how much data is sufficient to have already a satisfying prediction?) What happens when we start with different values of $\\alpha$ and $\\beta$? Does it affect a lot the posterior distribution?"
   ]
  },
  {
   "cell_type": "code",
   "execution_count": 10,
   "metadata": {
    "collapsed": true
   },
   "outputs": [],
   "source": [
    "# For p; for 10 datapoints we already have a satisfying plot. If we take p = 45 then we get a larger peak for the \n",
    "# posterior distribution.\n",
    "# For alpha en beta;  It does not have a large effect on the posterior distribution. However, it seems like changing\n",
    "# alpha significantly results in a shift along the x-axis and a change in beta results in a smaller and more \n",
    "# defined peak."
   ]
  },
  {
   "cell_type": "markdown",
   "metadata": {},
   "source": [
    "__TODO6__ (1 pt) Draw a random sample $S$ of size `M`from the posterior distribution $p(\\lambda | \\mathcal{D})$. Then, for each value of $\\lambda$ in $S$, draw the exponential distribution with parameter $\\lambda$. In order to draw the random sample, you can use the following built-in function\n",
    "https://docs.scipy.org/doc/numpy-1.15.0/reference/generated/numpy.random.gamma.html"
   ]
  },
  {
   "cell_type": "code",
   "execution_count": 11,
   "metadata": {},
   "outputs": [
    {
     "name": "stdout",
     "output_type": "stream",
     "text": [
      "[ 2.56711802  0.69675374  1.24896116 10.4272707   4.53646634]\n"
     ]
    },
    {
     "data": {
      "image/png": "[encoded data removed]",
      "text/plain": [
       "<matplotlib.figure.Figure at 0x7fc1fe462438>"
      ]
     },
     "metadata": {},
     "output_type": "display_data"
    }
   ],
   "source": [
    "#represent various p(x|lambda) for different lambda ~ p(lambda|data)\n",
    "def expo(data,parameter):\n",
    "    return parameter*np.exp(-data*parameter)\n",
    "\n",
    "M=5\n",
    "lambda_sample = np.random.gamma(alpha, beta, M)\n",
    "print(lambda_sample)\n",
    "for i in range(M):\n",
    "    plt.plot(x,expo(x,lambda_sample[i]))"
   ]
  },
  {
   "cell_type": "markdown",
   "metadata": {},
   "source": [
    "We compute now the maximum a posteriori (MAP) estimator of $\\lambda$, which is the mode of the posterior distribution. In case of a gamma distribution with parameters $\\alpha$ and $\\beta$, the mode is given by\n",
    "$$\n",
    "\\frac{\\alpha-1}{\\beta}\n",
    "$$\n",
    "\n",
    "__TODO7__ (1 pt) Compute the MAP estimator  $\\lambda_{MAP}$ of $\\lambda$. Compute also the maximum likelihood estimator $\\lambda_{ML}$ of $\\lambda$ (recall that it is equal to $\\frac{N}{\\sum_i x_i}$, where $\\{ x_1, \\dots, x_n\\}$ is the set of `data`). Then plot the exponential distribution with parameter $\\lambda_{MAP}$ and the exponential distribution with parameter $\\lambda_{ML}$. How do the two estimators compare to each other? And how do they compare with the brute force estimator?"
   ]
  },
  {
   "cell_type": "code",
   "execution_count": 12,
   "metadata": {},
   "outputs": [
    {
     "name": "stdout",
     "output_type": "stream",
     "text": [
      "1.0136101182293098\n",
      "1.4358772619984266\n",
      "The brute force estimator of lambda is:  0.20408163265306123\n"
     ]
    },
    {
     "data": {
      "image/png": "[encoded data removed]",
      "text/plain": [
       "<matplotlib.figure.Figure at 0x7fc1fe4589b0>"
      ]
     },
     "metadata": {},
     "output_type": "display_data"
    }
   ],
   "source": [
    "#compute the MAP estimator of lambda using the theoretical formula, to be filled in\n",
    "lambda_MAP = (alpha_post - 1)/(beta_post)\n",
    "plt.plot(x,expo(x,lambda_MAP),label='MAP $\\lambda$')\n",
    "print(lambda_MAP)\n",
    "\n",
    "#compute the ML estimator of lambda, to be filled in\n",
    "lambda_MLE = len(data)/(np.sum(data))\n",
    "plt.plot(x,expo(x,lambda_MLE),label='MLE $\\lambda$')\n",
    "print(lambda_MLE)\n",
    "\n",
    "#print again the brute force estimator, given\n",
    "print('The brute force estimator of lambda is: ',lambda_brute_force)\n",
    "plt.plot(x,expo(x,lambda_brute_force),label='brute force $\\lambda$')\n",
    "plt.legend()\n",
    "plt.show()"
   ]
  },
  {
   "cell_type": "code",
   "execution_count": 13,
   "metadata": {
    "collapsed": true
   },
   "outputs": [],
   "source": [
    "# As we can see in the plot, the brute force estimate is relatively far off from the MAP and MLE estimators of\n",
    "# lambda; \n",
    "# as expected, these two are close to each other"
   ]
  },
  {
   "cell_type": "markdown",
   "metadata": {},
   "source": [
    "Finally we plot the predictive distribution. It is the distribution for future predicted test data based on the training data we have been given. So the posterior predictive distribution can be used to predict new data values. In the case of an exponential distribution for the data and a prior which is a gamma distribution, the predictive distribution is given by\n",
    "$$\n",
    "\\frac{\\alpha'(\\beta')^{\\alpha'}}{(\\beta'+x)^{\\alpha'+1}}\n",
    "$$\n",
    "where $\\alpha'$ and $\\beta'$ are the parameters of the posterior distribution. \n",
    "\n",
    "__TODO8__ (1 pt) Plot the predictive distribution."
   ]
  },
  {
   "cell_type": "code",
   "execution_count": 14,
   "metadata": {},
   "outputs": [
    {
     "data": {
      "image/png": "[encoded data removed]",
      "text/plain": [
       "<matplotlib.figure.Figure at 0x7fc1fe54efd0>"
      ]
     },
     "metadata": {},
     "output_type": "display_data"
    }
   ],
   "source": [
    "#compute the distributive and compare with p(x|lambda_MAP), given\n",
    "plt.plot(x,expo(x,lambda_MAP),label='exponential distr. with MAP $\\lambda$')\n",
    "\n",
    "#compute the predictive distribution, to be filled in\n",
    "pred = ((alpha_post)*(beta_post)**alpha_post)/((beta_post+x)**(alpha_post+1))\n",
    "plt.plot(x,pred,label='predictive distr.')\n",
    "\n",
    "plt.legend()\n",
    "plt.show()"
   ]
  },
  {
   "cell_type": "markdown",
   "metadata": {},
   "source": [
    "# Part 2\n",
    "\n",
    "We will now do the same analysis but for a different distribution and slightly different type of problem.\n",
    "\n",
    "## Bayesian linear regression\n",
    "\n",
    "We consider the standard one dimensional linear regression problem\n",
    "$$\n",
    "y=wx+b+\\epsilon\n",
    "$$\n",
    "\n",
    "We assume that the noise $\\epsilon \\sim \\mathcal{N}(0,\\sigma^2)$. We are being given some data \n",
    "$$\n",
    "\\mathcal{D} =\\{ (x_1,y_1), \\dots, (x_N,y_N) \\}\n",
    "$$\n",
    "and we want to find estimators for the parameters $w$ and $b$ (note that here we assume $\\sigma^2$ to be known, there is also a bayesian analysis where $\\sigma^2$ is considered as an extra parameter to be estimated). \n",
    "\n",
    "First we randomly generate some data. The array `xdata` contains all the values $x_1, \\dots, x_N$ and the array `ydata`contains the values $y_1,\\dots,y_N$. We will also denote by $\\vec{y}$ the vector\n",
    "$$\n",
    "\\begin{bmatrix}\n",
    "y_1 \\\\\n",
    "\\dots \\\\\n",
    "y_N\n",
    "\\end{bmatrix}\n",
    "$$\n",
    "and by $X$ the matrix:\n",
    "$$\n",
    "\\begin{bmatrix}\n",
    "x_1 & \\dots & x_N \\\\\n",
    "1 & \\dots & 1 \n",
    "\\end{bmatrix}\n",
    "$$\n",
    "(note that if you are looking at Section 3.3 of Bishop, this is the transpose of the design matrix)"
   ]
  },
  {
   "cell_type": "code",
   "execution_count": 15,
   "metadata": {},
   "outputs": [
    {
     "name": "stdout",
     "output_type": "stream",
     "text": [
      "The true parameters for w and b are 5.518415240746684 and 0.37671876768508106\n"
     ]
    },
    {
     "data": {
      "image/png": "[encoded data removed]",
      "text/plain": [
       "<matplotlib.figure.Figure at 0x7fc1fe535fd0>"
      ]
     },
     "metadata": {},
     "output_type": "display_data"
    }
   ],
   "source": [
    "#randomly generate the data\n",
    "\n",
    "import random\n",
    "\n",
    "N_reg = 100\n",
    "wtrue = 5+2*np.random.rand()\n",
    "btrue = 1+np.random.randn()\n",
    "\n",
    "xdata = 4*(np.random.rand(N_reg)-0.5)\n",
    "xdata = np.sort(xdata)\n",
    "\n",
    "sigmatrue=2+np.random.randn()\n",
    "noisedata=np.random.normal(0, sigmatrue, N_reg)\n",
    "\n",
    "ydata= wtrue* xdata + btrue + noisedata\n",
    "plt.plot(xdata,ydata,\"r.\")\n",
    "\n",
    "print('The true parameters for w and b are', wtrue,'and', btrue)"
   ]
  },
  {
   "cell_type": "markdown",
   "metadata": {},
   "source": [
    "We have that\n",
    "$$\n",
    "y \\sim \\mathcal{N}(b,\\sigma^2)\n",
    "$$\n",
    "\n",
    "Usually we assume that the distribution of the parameters $(w,b)$ is a 2D gaussian, which will ensure that the posterior is also a gaussian. So\n",
    "$$\n",
    "p(w,b) = \\mathcal{N}(\\vec{\\mu},\\Sigma) \n",
    "$$\n",
    "\n",
    "\n",
    "First we plot the prior distribution (using contour lines). Make sure you understand the code. The prior distribution of the parameters $w$ and $b$ is a 2-dimensional gaussian with mean `m` and covariance matrix `cov`"
   ]
  },
  {
   "cell_type": "code",
   "execution_count": 16,
   "metadata": {},
   "outputs": [
    {
     "name": "stdout",
     "output_type": "stream",
     "text": [
      "(100, 200)\n",
      "(100, 200)\n",
      "(100, 200, 2)\n"
     ]
    },
    {
     "data": {
      "text/plain": [
       "<matplotlib.contour.QuadContourSet at 0x7fc1f652a048>"
      ]
     },
     "execution_count": 16,
     "metadata": {},
     "output_type": "execute_result"
    },
    {
     "data": {
      "image/png": "[encoded data removed]",
      "text/plain": [
       "<matplotlib.figure.Figure at 0x7fc1fe49aef0>"
      ]
     },
     "metadata": {},
     "output_type": "display_data"
    }
   ],
   "source": [
    "from scipy.stats import multivariate_normal\n",
    "\n",
    "#everything given\n",
    "m=[10,8]\n",
    "cov = [[4, 0], [0, 4]]\n",
    "\n",
    "N_w=200\n",
    "N_b=100\n",
    "w0 = np.linspace(5,15,N_w)\n",
    "b0 = np.linspace(5,14,N_b)\n",
    "W, B = np.meshgrid(w0, b0)\n",
    "print(W.shape)\n",
    "print(B.shape)\n",
    "pos=np.dstack((W,B))\n",
    "print(pos.shape)\n",
    "\n",
    "\n",
    "plt.contour(W,B, multivariate_normal.pdf(pos,m,cov))"
   ]
  },
  {
   "cell_type": "markdown",
   "metadata": {},
   "source": [
    "Like in the first part of the assignment, we will first compute brute force estimators of $w$ and $b$. The technique is the same but it is technically slightly more involved as we have 2 parameters instead of 1. We start with an array with *enough* different values of $w$ and $b$\n",
    "\n",
    "$$\n",
    "\\begin{bmatrix}\n",
    "[w_{11},b_{11}] & [w_{12},b_{12}] & \\dots & [w_{1k},b_{1k}] \\\\\n",
    "[w_{21},b_{21}] & [w_{22},b_{22}] & \\dots & [w_{2k},b_{2k}] \\\\\n",
    "\\dots & & & \\\\\n",
    "[w_{1l},b_{1l}] & [w_{1},b_{11}] & \\dots & [w_{11},b_{11}] \\\\\n",
    "\\end{bmatrix}\n",
    "$$\n",
    "\n",
    "For this array, we will simply use the array `pos` from the previous program (it is a 3D array with dimension (N_b, N_w, 2) ).\n",
    "\n",
    "As in the case of the exponential distribution, for each $[w_{ij},b_{ij}]$, we will compute the value\n",
    "\n",
    "$$\n",
    "p(\\vec{y} \\;| \\; w_{ij},b_{ij},X)  p(w_{ij},b_{ij})\n",
    "$$\n",
    "and the brute force estimator will be the pair $(w_{ij},b_{ij})$ that maximizes that value.\n",
    "\n",
    "### Array_param\n",
    "\n",
    "In the array `array_param`, we will store all the values\n",
    "$$\n",
    " p(w_{ij},b_{ij})\n",
    "$$\n",
    "\n",
    "Note that `array_param` is thus a 2D array of shape `(N_b,N_w)`. \n",
    "\n",
    "Remember that the probability distribution of $(w,b)$ is a 2-dimensional gaussian with mean `m` (vector of size $2$) and $2 \\times 2$ covariance matrix `cov`. You can use any built-in function that you want. \n",
    "\n",
    "### Array_like\n",
    "\n",
    "Next in the array `array_like` (`like` as for likelihood), we will store all the values\n",
    "\n",
    "$$\n",
    "p(\\vec{y} \\;| \\; w_{ij},b_{ij},X) \n",
    "$$\n",
    "for each of the values of $[w_{ij},b_{ij}]$. Again  `array_like` is thus a 2D array of shape `(N_b,N_w)`.\n",
    "\n",
    "In case of linear regession, the likelihood is given by\n",
    "$$\n",
    "p(\\vec{y} \\;| \\; w_{ij},b_{ij},X) = \\mathcal{N}(X^T \\vec{w}_{ij}, \\sigma^2 I) \n",
    "$$\n",
    "where $I$ is the identity matrix of dimension $N$ and\n",
    "$$\n",
    "\\vec{w}_{ij} =\\begin{bmatrix} w_{ij} \\\\ b_{ij} \\end{bmatrix}\n",
    "$$\n",
    "\n",
    "### Array B\n",
    "\n",
    "Finally, in the array `B`, we will store all the values\n",
    "$$\n",
    "p(\\vec{y} \\;| \\; w_{ij},b_{ij},X)  p(w_{ij},b_{ij})\n",
    "$$\n",
    "\n",
    "So, `B=np.multiply(array_param,array_like)`. Note that the 3 arrays `array_param`, `array_like` and `B`are arrays of shape `(N_b,N_w)`.\n",
    "\n",
    "Finally we have to find the value of $[w_{ij},b_{ij}]$ that corresponds to the maximum value of `B`. This can be done applying the `argmax` function to `B`. It is not as easy as in Part 1 though as for a given array `B` the result of `argmax`will be an index of the flattened array obtained from `B` (have a look at the documentation). In order to obtain the index of the maximum of the original unflattened `B`, you can for example use the function `unravel_index` from numpy (have also a look at the documentation to know how to use `unravel_index`).\n",
    "\n",
    "\n",
    "__TODO9__ (1.5 pt) Compute the brute force estimators of $w$ and $b$ using the method described above (and using the same names for the arrays)."
   ]
  },
  {
   "cell_type": "code",
   "execution_count": 17,
   "metadata": {},
   "outputs": [
    {
     "name": "stdout",
     "output_type": "stream",
     "text": [
      "Array_param (100, 200)\n",
      "Array like (100, 200)\n",
      "Array_like (100, 200)\n",
      "B (100, 200)\n",
      "[[ 5.          5.          5.         ...  5.          5.\n",
      "   5.        ]\n",
      " [ 5.09090909  5.09090909  5.09090909 ...  5.09090909  5.09090909\n",
      "   5.09090909]\n",
      " [ 5.18181818  5.18181818  5.18181818 ...  5.18181818  5.18181818\n",
      "   5.18181818]\n",
      " ...\n",
      " [13.81818182 13.81818182 13.81818182 ... 13.81818182 13.81818182\n",
      "  13.81818182]\n",
      " [13.90909091 13.90909091 13.90909091 ... 13.90909091 13.90909091\n",
      "  13.90909091]\n",
      " [14.         14.         14.         ... 14.         14.\n",
      "  14.        ]]\n",
      "MAXARG [ 5. 14.]\n"
     ]
    }
   ],
   "source": [
    "#initialize the matrix X (needed for the likelihood later), given\n",
    "X=np.zeros((2,N_reg))\n",
    "X[0]=xdata\n",
    "X[1] =1.0\n",
    "y = ydata\n",
    "\n",
    "#to be filled in \n",
    "array_param = np.empty([N_b, N_w])\n",
    "array_param = multivariate_normal.pdf(pos,m,cov)\n",
    "print(\"Array_param\", array_param.shape)\n",
    "\n",
    "def exponential(data,parameter):\n",
    "    data = np.array([data])\n",
    "    parameter = np.array([parameter])\n",
    "    return np.prod(np.dot(parameter,np.exp(-np.dot(data.T,parameter))), axis=0)\n",
    "\n",
    "A = np.empty([k])\n",
    "lambdas = np.linspace(0,10,k)\n",
    "gam_lambdas = gam(lambdas, alpha=2, beta=2)\n",
    "A = (exponential(x,lambdas)*gam_lambdas)\n",
    "lambda_brute_force = lambdas[np.argmax(A)]\n",
    "\n",
    "array_like = np.empty([N_b, N_w])\n",
    "print(\"Array like\", array_like.shape)\n",
    "for i,elem_i in enumerate(pos):\n",
    "    for j,elem_j in enumerate(elem_i):\n",
    "        array_like[i][j] = multivariate_normal.pdf(y, np.ndarray.flatten(np.dot(X.T, np.array([elem_j]).T)), np.dot(sigmatrue, np.identity(N_reg)))\n",
    "print(\"Array_like\",array_like.shape)\n",
    "\n",
    "array_B = np.multiply(array_param,array_like)\n",
    "print(\"B\", B.shape)\n",
    "print(B)\n",
    "\n",
    "B_flattened = np.ndarray.flatten(B)\n",
    "B_max = np.argmax(B_flattened)\n",
    "(x,y) = np.unravel_index(B_max, (N_b, N_w))\n",
    "Max_arg = pos[x][y]\n",
    "print(\"MAXARG\", Max_arg)"
   ]
  },
  {
   "cell_type": "markdown",
   "metadata": {},
   "source": [
    "Now in order to find estimators of $w$ and $b$ (without using brute force), we will compute the posterior distribution of $(w,b)$ and take the maximum as an estimators of $(w,b)$.\n",
    "\n",
    "If you look in Bishop (section 3.3), you can see that the posterior distribution is given by\n",
    "$$\n",
    "p(w,b \\; | \\; \\sigma,\\mathcal{D}) \\sim \\mathcal{N}(\\vec{\\mu}_{post},\\Sigma_{post})\n",
    "$$\n",
    "where\n",
    "$$\n",
    "\\Sigma_{post}^{-1} = \\Sigma^{-1} + \\frac{1}{\\sigma^2} X X^T\n",
    "$$\n",
    "and \n",
    "$$\n",
    "\\vec{\\mu}_{post} = \\Sigma_{post} (\\Sigma^{-1} \\vec{\\mu} + \\frac{1}{\\sigma^2} X \\vec{y})\n",
    "$$\n",
    "\n",
    "\n",
    "__TODO10__ (1 pt) Using the same method as for plotting the prior, plot the posterior distribution of $(w,b)$."
   ]
  },
  {
   "cell_type": "code",
   "execution_count": 36,
   "metadata": {},
   "outputs": [
    {
     "name": "stdout",
     "output_type": "stream",
     "text": [
      "[[ 2.15423980e-03 -7.65446157e-05]\n",
      " [-7.65446157e-05  3.54778295e-03]]\n",
      "[[0.00523251 0.00523251 0.00523251 0.00523251 0.00523251 0.00523251\n",
      "  0.00523251 0.00523251 0.00523251 0.00523251 0.00523251 0.00523251\n",
      "  0.00523251 0.00523251 0.00523251 0.00523251 0.00523251 0.00523251\n",
      "  0.00523251 0.00523251 0.00523251 0.00523251 0.00523251 0.00523251\n",
      "  0.00523251 0.00523251 0.00523251 0.00523251 0.00523251 0.00523251\n",
      "  0.00523251 0.00523251 0.00523251 0.00523251 0.00523251 0.00523251\n",
      "  0.00523251 0.00523251 0.00523251 0.00523251 0.00523251 0.00523251\n",
      "  0.00523251 0.00523251 0.00523251 0.00523251 0.00523251 0.00523251\n",
      "  0.00523251 0.00523251 0.00523251 0.00523251 0.00523251 0.00523251\n",
      "  0.00523251 0.00523251 0.00523251 0.00523251 0.00523251 0.00523251\n",
      "  0.00523251 0.00523251 0.00523251 0.00523251 0.00523251 0.00523251\n",
      "  0.00523251 0.00523251 0.00523251 0.00523251 0.00523251 0.00523251\n",
      "  0.00523251 0.00523251 0.00523251 0.00523251 0.00523251 0.00523251\n",
      "  0.00523251 0.00523251 0.00523251 0.00523251 0.00523251 0.00523251\n",
      "  0.00523251 0.00523251 0.00523251 0.00523251 0.00523251 0.00523251\n",
      "  0.00523251 0.00523251 0.00523251 0.00523251 0.00523251 0.00523251\n",
      "  0.00523251 0.00523251 0.00523251 0.00523251]\n",
      " [0.0069042  0.0069042  0.0069042  0.0069042  0.0069042  0.0069042\n",
      "  0.0069042  0.0069042  0.0069042  0.0069042  0.0069042  0.0069042\n",
      "  0.0069042  0.0069042  0.0069042  0.0069042  0.0069042  0.0069042\n",
      "  0.0069042  0.0069042  0.0069042  0.0069042  0.0069042  0.0069042\n",
      "  0.0069042  0.0069042  0.0069042  0.0069042  0.0069042  0.0069042\n",
      "  0.0069042  0.0069042  0.0069042  0.0069042  0.0069042  0.0069042\n",
      "  0.0069042  0.0069042  0.0069042  0.0069042  0.0069042  0.0069042\n",
      "  0.0069042  0.0069042  0.0069042  0.0069042  0.0069042  0.0069042\n",
      "  0.0069042  0.0069042  0.0069042  0.0069042  0.0069042  0.0069042\n",
      "  0.0069042  0.0069042  0.0069042  0.0069042  0.0069042  0.0069042\n",
      "  0.0069042  0.0069042  0.0069042  0.0069042  0.0069042  0.0069042\n",
      "  0.0069042  0.0069042  0.0069042  0.0069042  0.0069042  0.0069042\n",
      "  0.0069042  0.0069042  0.0069042  0.0069042  0.0069042  0.0069042\n",
      "  0.0069042  0.0069042  0.0069042  0.0069042  0.0069042  0.0069042\n",
      "  0.0069042  0.0069042  0.0069042  0.0069042  0.0069042  0.0069042\n",
      "  0.0069042  0.0069042  0.0069042  0.0069042  0.0069042  0.0069042\n",
      "  0.0069042  0.0069042  0.0069042  0.0069042 ]]\n"
     ]
    },
    {
     "ename": "ValueError",
     "evalue": "Array 'mean' must be a vector of length 200.",
     "output_type": "error",
     "traceback": [
      "\u001b[0;31m---------------------------------------------------------------------------\u001b[0m",
      "\u001b[0;31mValueError\u001b[0m                                Traceback (most recent call last)",
      "\u001b[0;32m<ipython-input-36-ca35f67cf18c>\u001b[0m in \u001b[0;36m<module>\u001b[0;34m()\u001b[0m\n\u001b[1;32m      3\u001b[0m \u001b[0mprint\u001b[0m\u001b[0;34m(\u001b[0m\u001b[0mpos_cov\u001b[0m\u001b[0;34m)\u001b[0m\u001b[0;34m\u001b[0m\u001b[0m\n\u001b[1;32m      4\u001b[0m \u001b[0mprint\u001b[0m\u001b[0;34m(\u001b[0m\u001b[0mpos_mean\u001b[0m\u001b[0;34m)\u001b[0m\u001b[0;34m\u001b[0m\u001b[0m\n\u001b[0;32m----> 5\u001b[0;31m \u001b[0mplt\u001b[0m\u001b[0;34m.\u001b[0m\u001b[0mcontour\u001b[0m\u001b[0;34m(\u001b[0m\u001b[0mW\u001b[0m\u001b[0;34m,\u001b[0m\u001b[0mB\u001b[0m\u001b[0;34m,\u001b[0m \u001b[0mmultivariate_normal\u001b[0m\u001b[0;34m.\u001b[0m\u001b[0mpdf\u001b[0m\u001b[0;34m(\u001b[0m\u001b[0mpos\u001b[0m\u001b[0;34m,\u001b[0m \u001b[0mpos_mean\u001b[0m\u001b[0;34m,\u001b[0m\u001b[0mpos_cov\u001b[0m\u001b[0;34m)\u001b[0m\u001b[0;34m)\u001b[0m\u001b[0;34m\u001b[0m\u001b[0m\n\u001b[0m",
      "\u001b[0;32m~/anaconda3/lib/python3.6/site-packages/scipy/stats/_multivariate.py\u001b[0m in \u001b[0;36mpdf\u001b[0;34m(self, x, mean, cov, allow_singular)\u001b[0m\n\u001b[1;32m    502\u001b[0m \u001b[0;34m\u001b[0m\u001b[0m\n\u001b[1;32m    503\u001b[0m         \"\"\"\n\u001b[0;32m--> 504\u001b[0;31m         \u001b[0mdim\u001b[0m\u001b[0;34m,\u001b[0m \u001b[0mmean\u001b[0m\u001b[0;34m,\u001b[0m \u001b[0mcov\u001b[0m \u001b[0;34m=\u001b[0m \u001b[0mself\u001b[0m\u001b[0;34m.\u001b[0m\u001b[0m_process_parameters\u001b[0m\u001b[0;34m(\u001b[0m\u001b[0;32mNone\u001b[0m\u001b[0;34m,\u001b[0m \u001b[0mmean\u001b[0m\u001b[0;34m,\u001b[0m \u001b[0mcov\u001b[0m\u001b[0;34m)\u001b[0m\u001b[0;34m\u001b[0m\u001b[0m\n\u001b[0m\u001b[1;32m    505\u001b[0m         \u001b[0mx\u001b[0m \u001b[0;34m=\u001b[0m \u001b[0mself\u001b[0m\u001b[0;34m.\u001b[0m\u001b[0m_process_quantiles\u001b[0m\u001b[0;34m(\u001b[0m\u001b[0mx\u001b[0m\u001b[0;34m,\u001b[0m \u001b[0mdim\u001b[0m\u001b[0;34m)\u001b[0m\u001b[0;34m\u001b[0m\u001b[0m\n\u001b[1;32m    506\u001b[0m         \u001b[0mpsd\u001b[0m \u001b[0;34m=\u001b[0m \u001b[0m_PSD\u001b[0m\u001b[0;34m(\u001b[0m\u001b[0mcov\u001b[0m\u001b[0;34m,\u001b[0m \u001b[0mallow_singular\u001b[0m\u001b[0;34m=\u001b[0m\u001b[0mallow_singular\u001b[0m\u001b[0;34m)\u001b[0m\u001b[0;34m\u001b[0m\u001b[0m\n",
      "\u001b[0;32m~/anaconda3/lib/python3.6/site-packages/scipy/stats/_multivariate.py\u001b[0m in \u001b[0;36m_process_parameters\u001b[0;34m(self, dim, mean, cov)\u001b[0m\n\u001b[1;32m    390\u001b[0m \u001b[0;34m\u001b[0m\u001b[0m\n\u001b[1;32m    391\u001b[0m         \u001b[0;32mif\u001b[0m \u001b[0mmean\u001b[0m\u001b[0;34m.\u001b[0m\u001b[0mndim\u001b[0m \u001b[0;34m!=\u001b[0m \u001b[0;36m1\u001b[0m \u001b[0;32mor\u001b[0m \u001b[0mmean\u001b[0m\u001b[0;34m.\u001b[0m\u001b[0mshape\u001b[0m\u001b[0;34m[\u001b[0m\u001b[0;36m0\u001b[0m\u001b[0;34m]\u001b[0m \u001b[0;34m!=\u001b[0m \u001b[0mdim\u001b[0m\u001b[0;34m:\u001b[0m\u001b[0;34m\u001b[0m\u001b[0m\n\u001b[0;32m--> 392\u001b[0;31m             \u001b[0;32mraise\u001b[0m \u001b[0mValueError\u001b[0m\u001b[0;34m(\u001b[0m\u001b[0;34m\"Array 'mean' must be a vector of length %d.\"\u001b[0m \u001b[0;34m%\u001b[0m \u001b[0mdim\u001b[0m\u001b[0;34m)\u001b[0m\u001b[0;34m\u001b[0m\u001b[0m\n\u001b[0m\u001b[1;32m    393\u001b[0m         \u001b[0;32mif\u001b[0m \u001b[0mcov\u001b[0m\u001b[0;34m.\u001b[0m\u001b[0mndim\u001b[0m \u001b[0;34m==\u001b[0m \u001b[0;36m0\u001b[0m\u001b[0;34m:\u001b[0m\u001b[0;34m\u001b[0m\u001b[0m\n\u001b[1;32m    394\u001b[0m             \u001b[0mcov\u001b[0m \u001b[0;34m=\u001b[0m \u001b[0mcov\u001b[0m \u001b[0;34m*\u001b[0m \u001b[0mnp\u001b[0m\u001b[0;34m.\u001b[0m\u001b[0meye\u001b[0m\u001b[0;34m(\u001b[0m\u001b[0mdim\u001b[0m\u001b[0;34m)\u001b[0m\u001b[0;34m\u001b[0m\u001b[0m\n",
      "\u001b[0;31mValueError\u001b[0m: Array 'mean' must be a vector of length 200."
     ]
    }
   ],
   "source": [
    "pos_cov = np.linalg.inv(np.linalg.inv(cov)+(1/sigmatrue)*np.matmul(X,np.transpose(X)))\n",
    "pos_mean = np.dot(pos_cov.T,((np.dot(np.linalg.inv(cov),np.array([m]).T))+((1/sigmatrue)*np.dot(X,y))))\n",
    "print(pos_cov)\n",
    "print(pos_mean)\n",
    "plt.contour(W,B, multivariate_normal.pdf(pos, pos_mean,pos_cov))"
   ]
  },
  {
   "cell_type": "markdown",
   "metadata": {},
   "source": [
    "__TODO11__ (0.5 pt) Compute the MAP estimator $(w_{MAP},b_{MAP})$ of $(w,b)$ (so that is the mode of the posterior distribution and in the case of a gaussian, this is the mean of the gaussian). Next plot the line with equation\n",
    "$$\n",
    "y= w_{MAP} x + b_{MAP}\n",
    "$$\n",
    "\n",
    "Did you see a time difference bewteen the computation of the estimators using brute force and using the Bayesian approach? What happens when you increase the values of `N_b` and `N_w`?"
   ]
  },
  {
   "cell_type": "code",
   "execution_count": null,
   "metadata": {},
   "outputs": [],
   "source": [
    "\n",
    "#given\n",
    "plt.plot(xdata,ydata,\"r.\")\n",
    "plt.legend()"
   ]
  },
  {
   "cell_type": "code",
   "execution_count": null,
   "metadata": {
    "collapsed": true
   },
   "outputs": [],
   "source": []
  }
 ],
 "metadata": {
  "kernelspec": {
   "display_name": "Python 3",
   "language": "python",
   "name": "python3"
  },
  "language_info": {
   "codemirror_mode": {
    "name": "ipython",
    "version": 3
   },
   "file_extension": ".py",
   "mimetype": "text/x-python",
   "name": "python",
   "nbconvert_exporter": "python",
   "pygments_lexer": "ipython3",
   "version": "3.6.3"
  }
 },
 "nbformat": 4,
 "nbformat_minor": 2
}
