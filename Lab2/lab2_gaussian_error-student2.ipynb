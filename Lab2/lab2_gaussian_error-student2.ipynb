{
 "cells": [
  {
   "cell_type": "markdown",
   "metadata": {},
   "source": [
    "# Lab 2\n",
    "\n",
    "* It is expected that you work individually and the usual plagarism rules apply.\n",
    "* Submissions are to be made on canvas. Make sure that you add your student ID in the submission comments.\n",
    "* The main notebook file you submit should read \"Lab[number]_[last name].ipynb\", for example \"Lab2_Bongers.ipynb\". \n",
    "* Please make sure your code will run without problems\n",
    "\n",
    "_You need to fill in everywhere that there is a_ '__TODO__'\n",
    "\n",
    "Feel free ask any questions during the computer lab sessions, or email the TA.\n",
    "\n",
    "**The due date for the labs is next Wednesday at 23:59**"
   ]
  },
  {
   "cell_type": "code",
   "execution_count": 1,
   "metadata": {},
   "outputs": [],
   "source": [
    "# Load the numpy numerical computation library\n",
    "import numpy as np\n",
    "\n",
    "# Load matplotlib, which controls plotting pretty graphs\n",
    "import matplotlib.pyplot as plt\n",
    "%matplotlib inline"
   ]
  },
  {
   "cell_type": "markdown",
   "metadata": {},
   "source": [
    "## Exercise 1\n",
    "\n",
    "In the hoorcollege, the gaussian error function was introduced as the function \n",
    "$$\n",
    "\\text{erf}(x) = \\int_{-x}^x \\frac{1}{\\sqrt{\\pi}} e^{-u^2} \\, du\n",
    "$$\n",
    "There was also one application mentioned in the slides, about a binary data signal (so please have a look at it, if you don't remember it well).\n",
    "\n",
    "The aim of this exercise is to\n",
    "\n",
    "1. randomly generate such a binary data signal, together with the random noise corrupting the signal\n",
    "\n",
    "2. based on the sample you generated, estimate the error of the receiver\n",
    "\n",
    "3. do those steps for different values of $\\sigma$, and plot the estimations of the errors on the theoretical graph to the error (similar theoretical graph as the one that can be found on slide 37)"
   ]
  },
  {
   "cell_type": "markdown",
   "metadata": {},
   "source": [
    "First we randomly generate the binary data signal. In the previous lab assignment, we already saw how to generate a string  of size $N$ of $-1$ and $1$ such that the probability to output  $-1$ is $p$.  "
   ]
  },
  {
   "cell_type": "code",
   "execution_count": 2,
   "metadata": {},
   "outputs": [
    {
     "name": "stdout",
     "output_type": "stream",
     "text": [
      "[1, 1, 1, -1, 1, 1, -1, -1, 1, 1, -1, -1, 1, 1, -1, -1, -1, 1, 1, -1, 1, 1, -1, -1, 1, 1, -1, -1, -1, 1, 1, 1, -1, -1, 1, -1, 1, 1, 1, 1, 1, 1, 1, -1, 1, 1, 1, -1, -1, 1, 1, 1, -1, 1, 1, -1, 1, -1, -1, 1, -1, 1, -1, 1, -1, 1, -1, 1, 1, -1, -1, -1, 1, 1, -1, -1, 1, -1, 1, -1, -1, -1, -1, 1, -1, -1, -1, -1, -1, -1, -1, 1, 1, -1, 1, 1, 1, 1, -1, -1]\n"
     ]
    }
   ],
   "source": [
    "# given to students\n",
    "\n",
    "import random \n",
    "\n",
    "def sample_bit(p):\n",
    "    if random.random() < p: return -1\n",
    "    else: return 1\n",
    "\n",
    "def sample(N,p):\n",
    "    \"\"\" N - number of samples\n",
    "        p - probability of 0\"\"\"\n",
    "    vec=[]\n",
    "    for i in range(N):\n",
    "        vec.append(sample_bit(p))\n",
    "    return vec\n",
    "\n",
    "# this is given to the students\n",
    "s = sample(100,0.5)\n",
    "print(s)"
   ]
  },
  {
   "cell_type": "markdown",
   "metadata": {},
   "source": [
    "__TODO__ (1.5 pt) The receiver receives the signal together with an error, which we assume to be distributed as a gaussian with mean $0$ and variance $\\sigma^2$. Write a function `gaussian(N,mu,sigma)` that generates a sample of size $N$ of data distributed as a gaussian with mean mu and covariance sigma$^2$. You can use any built-in function you want. "
   ]
  },
  {
   "cell_type": "code",
   "execution_count": null,
   "metadata": {},
   "outputs": [],
   "source": []
  },
  {
   "cell_type": "markdown",
   "metadata": {},
   "source": [
    "__TODO__ (1.5 pt) Now use the previous function to define a new function `received_signal(x,N,mu,sigma)` which given a signal $x$ of size $N$, generate a sample of size $N$ of the signal received by the receiver."
   ]
  },
  {
   "cell_type": "code",
   "execution_count": null,
   "metadata": {},
   "outputs": [],
   "source": []
  },
  {
   "cell_type": "markdown",
   "metadata": {},
   "source": [
    "__TODO__ (2 pt) Now remember that if the received signal is positive, the receiver interprets that a $1$ was sent and otherwise, the receiver interprets it as a $-1$. \n",
    "\n",
    "Let $e_1$ be the number of $1$ that were sent and interpreted as a $-1$ (because of the noise) and let $e2$  be the number of $-1$ that were sent and interpreted as a $1$. Then for a signal of size $N$, the estimated error is given by\n",
    "$$\n",
    "\\frac{e1+e2}{N}\n",
    "$$\n",
    "\n",
    "Using the previous functions, write a function ``estimated_error(N,p,mu,sigma)`` that randomly generates a signal of size $N$, a correspondly received signal and returns the estimated error based on those 2 samples. "
   ]
  },
  {
   "cell_type": "code",
   "execution_count": null,
   "metadata": {},
   "outputs": [],
   "source": []
  },
  {
   "cell_type": "markdown",
   "metadata": {},
   "source": [
    "__TODO__ (2 pt) We will now plot the estimated errors for different values of $\\sigma$. You have to define a function `graph(N,p,mu,sigma_max,k)` which plots the estimated errors for $k$ different values of $\\sigma$ between $0$ and $\\mathit{sigma\\_max}$ (where $p$ is the probability that signal emits  $-1$, $\\mathit{mu}$ is the mean of the noise for all error distributions, and $N$ is the size of the signal). \n",
    "\n",
    "Those $k$ values of $\\sigma$ are uniformly distributed in the interval $[0,\\mathit{sigma\\_max}]$. In order to produce evenly spaced numbers over a specified interval, use the build-in function `np.linspace`. \n",
    "\n",
    "Then run the function for the specific values of $N$, $p$, $\\mathit{mu}$, $\\mathit{sigma\\_max}$ and $k$, as given below."
   ]
  },
  {
   "cell_type": "code",
   "execution_count": 3,
   "metadata": {},
   "outputs": [
    {
     "ename": "NameError",
     "evalue": "name 'graph' is not defined",
     "output_type": "error",
     "traceback": [
      "\u001b[1;31m---------------------------------------------------------------------------\u001b[0m",
      "\u001b[1;31mNameError\u001b[0m                                 Traceback (most recent call last)",
      "\u001b[1;32m<ipython-input-3-c354e6862296>\u001b[0m in \u001b[0;36m<module>\u001b[1;34m()\u001b[0m\n\u001b[0;32m      8\u001b[0m \u001b[1;33m\u001b[0m\u001b[0m\n\u001b[0;32m      9\u001b[0m \u001b[0mN\u001b[0m\u001b[1;33m=\u001b[0m\u001b[1;36m10\u001b[0m\u001b[1;33m\u001b[0m\u001b[0m\n\u001b[1;32m---> 10\u001b[1;33m \u001b[0mgraph\u001b[0m\u001b[1;33m(\u001b[0m\u001b[0mN\u001b[0m\u001b[1;33m,\u001b[0m\u001b[0mp\u001b[0m\u001b[1;33m,\u001b[0m\u001b[0mmu\u001b[0m\u001b[1;33m,\u001b[0m\u001b[0msigma_max\u001b[0m\u001b[1;33m,\u001b[0m\u001b[0mk\u001b[0m\u001b[1;33m)\u001b[0m\u001b[1;33m\u001b[0m\u001b[0m\n\u001b[0m\u001b[0;32m     11\u001b[0m \u001b[1;33m\u001b[0m\u001b[0m\n\u001b[0;32m     12\u001b[0m \u001b[0mN\u001b[0m\u001b[1;33m=\u001b[0m\u001b[1;36m100\u001b[0m\u001b[1;33m\u001b[0m\u001b[0m\n",
      "\u001b[1;31mNameError\u001b[0m: name 'graph' is not defined"
     ]
    }
   ],
   "source": [
    "\n",
    "\n",
    "#given to students\n",
    "p=0.5\n",
    "mu=0\n",
    "sigma_max=4\n",
    "k=50\n",
    "\n",
    "N=10\n",
    "graph(N,p,mu,sigma_max,k)\n",
    "\n",
    "N=100\n",
    "graph(N,p,mu,sigma_max,k)\n",
    "\n",
    "N=1000\n",
    "graph(N,p,mu,sigma_max,k)\n"
   ]
  },
  {
   "cell_type": "markdown",
   "metadata": {},
   "source": [
    "__TODO__ We will now plot the graph of the \"theoretical error\" (calculated using the gaussian error) and compare it with the estimators we previously computed. If $p=0.5$ and $mu=0$, it is shown in the slides that the probability of having an error is given by\n",
    "$$\n",
    "0.5 \\left ( 1 + \\text{erf}\\left(\\frac{-1}{\\sigma \\sqrt{2}} \\right) \\right )\n",
    "$$\n",
    "\n",
    "Plot the graph of that function for $\\sigma \\in [0,4]$. \n",
    "\n",
    "Below you can find an example on how to plot a gaussian of mean $0$ and $\\sigma =2$ (the plot goes from $-4$ to $4$). We used directly a built-in function `norm.pdf` to compute the gaussian function. "
   ]
  },
  {
   "cell_type": "code",
   "execution_count": null,
   "metadata": {},
   "outputs": [],
   "source": [
    "from scipy.stats import norm\n",
    "\n",
    "x = np.linspace(-4, 4, 100)\n",
    "plt.plot(x,norm.pdf(x, 0, 2))\n",
    "plt.show()"
   ]
  },
  {
   "cell_type": "markdown",
   "metadata": {},
   "source": [
    "__TODO__ (1.5 pt)  Inspired by the previous code, plot the error \n",
    "$$\n",
    "0.5 \\left ( 1 + \\text{erf}\\left(\\frac{-1}{\\sigma \\sqrt{2}} \\right) \\right )\n",
    "$$\n",
    "for $\\sigma \\in [0,4]$. You can use the built-in function `scipy.special.erf`to compute the erf function."
   ]
  },
  {
   "cell_type": "code",
   "execution_count": null,
   "metadata": {},
   "outputs": [],
   "source": [
    "#first 2 lines, given to the students\n",
    "import scipy\n",
    "from scipy import special\n",
    "    \n"
   ]
  },
  {
   "cell_type": "markdown",
   "metadata": {},
   "source": [
    "__TODO__ (1.5 pt) Now plot in the same graph: the graph we just plotted (with the theoretical error), and the estimated errors for different values of $\\sigma$. In other words, combine in one graph the previous graph and the first graph that we plotted. How do the graph of the theoretical error compares with the estimators?"
   ]
  },
  {
   "cell_type": "code",
   "execution_count": null,
   "metadata": {},
   "outputs": [],
   "source": []
  },
  {
   "cell_type": "code",
   "execution_count": null,
   "metadata": {},
   "outputs": [],
   "source": []
  }
 ],
 "metadata": {
  "kernelspec": {
   "display_name": "Python 3",
   "language": "python",
   "name": "python3"
  },
  "language_info": {
   "codemirror_mode": {
    "name": "ipython",
    "version": 3
   },
   "file_extension": ".py",
   "mimetype": "text/x-python",
   "name": "python",
   "nbconvert_exporter": "python",
   "pygments_lexer": "ipython3",
   "version": "3.6.4"
  }
 },
 "nbformat": 4,
 "nbformat_minor": 2
}
