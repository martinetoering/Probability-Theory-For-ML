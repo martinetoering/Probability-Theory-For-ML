{
 "cells": [
  {
   "cell_type": "code",
   "execution_count": 38,
   "metadata": {},
   "outputs": [
    {
     "name": "stdout",
     "output_type": "stream",
     "text": [
      "Populating the interactive namespace from numpy and matplotlib\n"
     ]
    }
   ],
   "source": [
    "import numpy as np\n",
    "import matplotlib.pyplot as plt\n",
    "%pylab inline\n",
    "%matplotlib inline"
   ]
  },
  {
   "cell_type": "markdown",
   "metadata": {},
   "source": [
    "# Exercise 1\n",
    "\n",
    "__TODO1__ (0.25) You are being given some data that have been generated from a 2-dimensional Gaussian (see file `sample.csv`). There is a numpy function `loadtxt`that can read your sample file and convert it to a numpy array. Write some code that reads and plots the data. "
   ]
  },
  {
   "cell_type": "code",
   "execution_count": null,
   "metadata": {},
   "outputs": [],
   "source": []
  },
  {
   "cell_type": "markdown",
   "metadata": {},
   "source": [
    "## Estimation of the mean\n",
    "\n",
    "__TODO2__ (0.5 pt) First write code to estimate the mean vector and represent the mean (as a green dot) in your plot. Do not use any built-in function for the mean, but implement the formula that was given to you during the hoorcollege. "
   ]
  },
  {
   "cell_type": "code",
   "execution_count": null,
   "metadata": {},
   "outputs": [],
   "source": []
  },
  {
   "cell_type": "markdown",
   "metadata": {},
   "source": [
    "## Estimation of the covariance matrix\n",
    "\n",
    "__TODO3__ (0.5 pt) Next write some code returning an estimate of the covariance matrix. Again do not use any built-in function for the covariance matrix."
   ]
  },
  {
   "cell_type": "code",
   "execution_count": null,
   "metadata": {},
   "outputs": [],
   "source": []
  },
  {
   "cell_type": "markdown",
   "metadata": {},
   "source": [
    "__TODO4__ (0.25 pt) Now compute an estimate of the covariance matrix using the built-in function `np.cov` and compare with your previous answer. "
   ]
  },
  {
   "cell_type": "code",
   "execution_count": null,
   "metadata": {},
   "outputs": [],
   "source": []
  },
  {
   "cell_type": "markdown",
   "metadata": {},
   "source": [
    "Using the estimators of the mean and covariance matrix, we have now an estimate of a Gaussian distribution $\\mathcal{N}([x,y] | \\mu, \\Sigma)$ that we will represent on our plot. The graph of $\\mathcal{N}([x,y] | \\mu, \\Sigma)$ is a 3-dimensional graph (one dimension for $x$, one dimension for $y$ and one dimension for $\\mathcal{N}([x,y] | \\mu, \\Sigma)$). One way to represent such a 3-dimensional graph in 2 dimensions is to draw contour lines (in the same way that we have contour lines to represent the altitude on a geographical map). "
   ]
  },
  {
   "cell_type": "markdown",
   "metadata": {},
   "source": [
    "__TODO5__ (0.25 pt) Define a function `gaussian(x,y,mu,cova)` that takes `(x,y,mu,cova)` as parameters and returns the value of $\\mathcal{N}([x,y] | \\mu, \\Sigma)$ at the point $(x,y)$ with mean `mu` and covariance matrix `cova`. Do not use any built-in functions for computing a multivariate Gaussian; however, tou can use the determinant and trace functions from `numpy`."
   ]
  },
  {
   "cell_type": "code",
   "execution_count": null,
   "metadata": {},
   "outputs": [],
   "source": []
  },
  {
   "cell_type": "markdown",
   "metadata": {},
   "source": [
    "Now we will draw the contour lines. You can see some examples [here](https://matplotlib.org/api/pyplot_api.html#matplotlib.pyplot.contour). The steps are as follows:\n",
    "\n",
    "(1) we generate two matrices `X` and `Y` of $x$ and $y$ coordinates. \n",
    "\n",
    "(2) we calculate in a vector `Z` all the images $\\mathcal{N}([x,y] | \\mu, \\Sigma)$ of the points generated in the first step. \n",
    "\n",
    "(3) we apply the function `plt.contour` to the vector $Z$\n",
    "\n",
    "For step (1), first generate a vector `x0`, using the function `np.linspace`, which consists of 200 points uniformly distributed between $-8$ and $8$. Similarly, we generate `y0` and combine `x0` and `y0` using `np.meshgrid` to produce the matrices `X` and `Y`. "
   ]
  },
  {
   "cell_type": "code",
   "execution_count": 45,
   "metadata": {},
   "outputs": [],
   "source": [
    "#given to the students\n",
    "\n",
    "x0 = np.linspace(-8, 8, 200)\n",
    "y0 = np.linspace(-8, 8, 100)\n",
    "X, Y = np.meshgrid(x0, y0)"
   ]
  },
  {
   "cell_type": "markdown",
   "metadata": {},
   "source": [
    "__TODO6__ (0.75 pt) In order to show your understanding of the above example, write code (similar to the previous one, except using different values as input for `np.linspace`) using the `np.linspace` and `np.meshgrid` functions that generate the below matrices `X1` and `Y1` given respectively by\n",
    "$$X_1 = \\begin{bmatrix} -4 & -2 & 0 & 2 & 4 \\\\\n",
    "-4 & -2 & 0 & 2 & 4 \\end{bmatrix}$$\n",
    "\n",
    "and\n",
    "$$Y_1 = \\begin{bmatrix} -6 & -6 & -6 & -6 & -6 \\\\\n",
    "6 & 6 & 6 & 6 & 6 \\end{bmatrix}.$$\n",
    "\n",
    "You can use the previous code and play around with the values $-8, 8, 200$ and $100$ and see what happens."
   ]
  },
  {
   "cell_type": "code",
   "execution_count": null,
   "metadata": {},
   "outputs": [],
   "source": []
  },
  {
   "cell_type": "markdown",
   "metadata": {},
   "source": [
    "__TODO7__ (0.5 pt) For steps (2) and (3), we use the functions `np.vectorize` (applied to the function $\\mathcal{N}([x,y] | \\mu, \\Sigma)$) and the `plt.contour` function. Note that when you use the function `np.vectorize`, you will have to use the optional argument `'excluded'`, as only the first two argument of $\\mathcal{N}([x,y] | \\mu, \\Sigma)$ are vectors.  You can now write the program that uses the matrices `X` and `Y` (as computed above) and the function created by `np.vectorize` to compute the vector `Z` and to draw the contour lines on the plot. "
   ]
  },
  {
   "cell_type": "code",
   "execution_count": null,
   "metadata": {},
   "outputs": [],
   "source": []
  },
  {
   "cell_type": "markdown",
   "metadata": {},
   "source": [
    "## Computing the eigenvalues and eigenvectors \n",
    "\n",
    "__TODO8__ (1 pt) Now calculate the eigenvalues and eigenvectors of the covariance matrix. Here you can use built-in functions from `numpy`. Also check that the two eigenvectors are indeed perpendicular (that is, their dot product is zero). "
   ]
  },
  {
   "cell_type": "code",
   "execution_count": null,
   "metadata": {},
   "outputs": [],
   "source": []
  },
  {
   "cell_type": "markdown",
   "metadata": {},
   "source": [
    "__TODO9__ (1 pt) We now draw a graphical representation of the eigenvectors. Use the previous graph (with the data, the mean 1and the contour lines) and add the eigenvectors (using the mean as the origin of the vectors). Remember to use `plt.axis('square')` to scale your axes correctly.\n",
    "\n",
    "One of the most intuitive explanations of eigenvectors of a covariance matrix is that they are the directions in which the data varies the most. Does your graphic validate this explanation?\n",
    "\n",
    "Do the two vectors look perpendicular? Why not? "
   ]
  },
  {
   "cell_type": "code",
   "execution_count": null,
   "metadata": {},
   "outputs": [],
   "source": []
  },
  {
   "cell_type": "markdown",
   "metadata": {},
   "source": [
    "# Exercise 2\n",
    "\n",
    "We will now again estimate the mean, covariance matrix and eigenvectors but from a data sample that you will generate yourself from a given Gaussian distribution. \n",
    "\n",
    "The data from Exercise 1 were sampled from a a 2-dimensional gaussian distribution with mean\n",
    "$\n",
    "\\begin{bmatrix}\n",
    "1 \\\\\n",
    "2\n",
    "\\end{bmatrix}\n",
    "$\n",
    "and covariance matrix $\n",
    "\\begin{bmatrix}\n",
    "2 & 3 \\\\\n",
    "3 & 2\n",
    "\\end{bmatrix}\n",
    "$\n",
    "\n",
    "__TODO10__ (2 pt) Write now a program that draws 200 samples from that same distribution and plot those samples on the plot from Exercise 1 (in a different color than the one used for the data from Exercise 1). Search for a built-in function that can generate multivariate gaussian samples. \n",
    "\n",
    "Using the code from Exercise 1, estimate the mean, the covariance matrix, the eigenvectors and draw the contour lines for that new sample. Do those differ much from the estimators that we found in Exercise 1?"
   ]
  },
  {
   "cell_type": "code",
   "execution_count": null,
   "metadata": {},
   "outputs": [],
   "source": []
  },
  {
   "cell_type": "markdown",
   "metadata": {},
   "source": [
    "# Exercise 3\n",
    "\n",
    "We will do the same steps (estimation of mean, covariance matrix, eigenvectors) but from a sample of data that is not necessarily generated from a Gaussian distribution. The sample can be found in the file `sample2.csv`.\n",
    "\n",
    "__TODO11__ (3 pt) Use the code you wrote in Exercise 1 to estimate the mean, the covariance matrix, the eigenvectors, and the eigenvalues. Finally give a graphical representation of the data, the mean and the eigenvectors (as in Exercise 1).\n",
    "\n",
    "Is this model a good fit for the data that have been given to you? Give a few words of explanation and justify why by simply looking graphically at the data, we could expect (or not) the gaussian model to be an adequate model."
   ]
  },
  {
   "cell_type": "code",
   "execution_count": null,
   "metadata": {},
   "outputs": [],
   "source": []
  }
 ],
 "metadata": {
  "kernelspec": {
   "display_name": "Python 3",
   "language": "python",
   "name": "python3"
  },
  "language_info": {
   "codemirror_mode": {
    "name": "ipython",
    "version": 3
   },
   "file_extension": ".py",
   "mimetype": "text/x-python",
   "name": "python",
   "nbconvert_exporter": "python",
   "pygments_lexer": "ipython3",
   "version": "3.6.4"
  }
 },
 "nbformat": 4,
 "nbformat_minor": 2
}
